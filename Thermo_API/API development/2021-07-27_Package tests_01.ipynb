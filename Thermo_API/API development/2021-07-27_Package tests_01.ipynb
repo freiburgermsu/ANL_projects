{
 "cells": [
  {
   "cell_type": "markdown",
   "metadata": {},
   "source": [
    "# Import the modules "
   ]
  },
  {
   "cell_type": "code",
   "execution_count": 1,
   "metadata": {},
   "outputs": [
    {
     "name": "stdout",
     "output_type": "stream",
     "text": [
      "cobrakbase 0.2.8\n"
     ]
    },
    {
     "name": "stderr",
     "output_type": "stream",
     "text": [
      "WARNING:cobrakbase.core.kbasefba.fbamodel_builder:unable to add sink for [cpd02701_c0]: not found\n",
      "WARNING:cobrakbase.core.kbasefba.fbamodel_builder:unable to add sink for [cpd15302_c0]: not found\n",
      "WARNING:cobrakbase.core.kbasefba.fbamodel_builder:unable to add sink for [cpd11416_c0]: not found\n"
     ]
    }
   ],
   "source": [
    "# import the general modules\n",
    "from optlang.symbolics import Zero\n",
    "import cobra\n",
    "import cplex\n",
    "import sys\n",
    "\n",
    "# import kbase\n",
    "import os\n",
    "os.environ[\"HOME\"] = 'C:\\\\Users\\\\Andrew Freiburger\\\\Dropbox\\\\My PC (DESKTOP-M302P50)\\\\Documents\\\\UVic Civil Engineering\\\\Internships\\\\Agronne\\\\cobrakbase'\n",
    "import cobrakbase\n",
    "token = 'KCYWCM5Q3ZFAGQKDG3ESMJXGHQPK7UMN'\n",
    "kbase = cobrakbase.KBaseAPI(token)\n",
    "\n",
    "# define the example individual model and associated API media package\n",
    "#model = kbase.get_from_ws('e_coli_core', 94253)\n",
    "model = kbase.get_from_ws('e_coli_core.kb', 94253)\n",
    "#model = kbase.get_from_ws('E_iAH991V2', 94253)\n",
    "model.solver = 'optlang-cplex'\n",
    "\n",
    "# local ModelSEED database path\n",
    "modelseed_db_path = '..\\..\\..\\Biofilm growth code\\GSWL code\\ModelSEEDDatabase'"
   ]
  },
  {
   "cell_type": "markdown",
   "metadata": {},
   "source": [
    "# -----------------------------------------------------------------------------------------------------------------------------------------------------------------------------------"
   ]
  },
  {
   "cell_type": "markdown",
   "metadata": {},
   "source": [
    "# RevBin package test"
   ]
  },
  {
   "cell_type": "markdown",
   "metadata": {},
   "source": [
    "The RevBin package prevents directional fluxes through reactions that have net zero flux. This is exemplified in the following demonstration, where the forward progression of the reversible ethanol transport reaction (rxn08427_c0) is optimized despite lacking the ability to have net flux. The unconstrained simulation possesses a maximal objective value, while the RevBin-constrained simulation possesses an objective value of zero.    "
   ]
  },
  {
   "cell_type": "markdown",
   "metadata": {},
   "source": [
    "## Unconstrained simulation"
   ]
  },
  {
   "cell_type": "code",
   "execution_count": 2,
   "metadata": {},
   "outputs": [
    {
     "name": "stderr",
     "output_type": "stream",
     "text": [
      "WARNING:cobrakbase.core.kbasefba.fbamodel_builder:unable to add sink for [cpd02701_c0]: not found\n",
      "WARNING:cobrakbase.core.kbasefba.fbamodel_builder:unable to add sink for [cpd15302_c0]: not found\n",
      "WARNING:cobrakbase.core.kbasefba.fbamodel_builder:unable to add sink for [cpd11416_c0]: not found\n",
      "WARNING:cobra.summary.model_summary:Non-linear or non-reaction model objective. Falling back to minimal display.\n"
     ]
    },
    {
     "data": {
      "text/html": [
       "<h3>Objective</h3><p>nan Expression = nan</p><h4>Uptake</h4><table border=\"1\" class=\"dataframe\">\n",
       "  <thead>\n",
       "    <tr style=\"text-align: right;\">\n",
       "      <th>Metabolite</th>\n",
       "      <th>Reaction</th>\n",
       "      <th>Flux</th>\n",
       "      <th>C-Number</th>\n",
       "      <th>C-Flux</th>\n",
       "    </tr>\n",
       "  </thead>\n",
       "  <tbody>\n",
       "  </tbody>\n",
       "</table><h4>Secretion</h4><table border=\"1\" class=\"dataframe\">\n",
       "  <thead>\n",
       "    <tr style=\"text-align: right;\">\n",
       "      <th>Metabolite</th>\n",
       "      <th>Reaction</th>\n",
       "      <th>Flux</th>\n",
       "      <th>C-Number</th>\n",
       "      <th>C-Flux</th>\n",
       "    </tr>\n",
       "  </thead>\n",
       "  <tbody>\n",
       "  </tbody>\n",
       "</table>"
      ],
      "text/plain": [
       "<cobra.summary.model_summary.ModelSummary at 0x1a418cd35c8>"
      ]
     },
     "metadata": {},
     "output_type": "display_data"
    }
   ],
   "source": [
    "model = kbase.get_from_ws('e_coli_core.kb', 94253)\n",
    "\n",
    "with model:\n",
    "    # set the objective function\n",
    "    model.objective = model.reactions.rxn08427_c0.forward_variable \n",
    "    display(model.summary())"
   ]
  },
  {
   "cell_type": "markdown",
   "metadata": {},
   "source": [
    "## RevBin-constrained simulation"
   ]
  },
  {
   "cell_type": "markdown",
   "metadata": {},
   "source": [
    "### Constrain and execute the model"
   ]
  },
  {
   "cell_type": "code",
   "execution_count": 3,
   "metadata": {},
   "outputs": [
    {
     "name": "stderr",
     "output_type": "stream",
     "text": [
      "WARNING:cobra.summary.model_summary:Non-linear or non-reaction model objective. Falling back to minimal display.\n"
     ]
    },
    {
     "data": {
      "text/html": [
       "<h3>Objective</h3><p>nan Expression = nan</p><h4>Uptake</h4><table border=\"1\" class=\"dataframe\">\n",
       "  <thead>\n",
       "    <tr style=\"text-align: right;\">\n",
       "      <th>Metabolite</th>\n",
       "      <th>Reaction</th>\n",
       "      <th>Flux</th>\n",
       "      <th>C-Number</th>\n",
       "      <th>C-Flux</th>\n",
       "    </tr>\n",
       "  </thead>\n",
       "  <tbody>\n",
       "    <tr>\n",
       "      <td>cpd00007_e0</td>\n",
       "      <td>EX_cpd00007_e0</td>\n",
       "      <td>100</td>\n",
       "      <td>0</td>\n",
       "      <td>0.00%</td>\n",
       "    </tr>\n",
       "    <tr>\n",
       "      <td>cpd00020_e0</td>\n",
       "      <td>EX_cpd00020_e0</td>\n",
       "      <td>800</td>\n",
       "      <td>3</td>\n",
       "      <td>54.55%</td>\n",
       "    </tr>\n",
       "    <tr>\n",
       "      <td>cpd00363_e0</td>\n",
       "      <td>EX_cpd00363_e0</td>\n",
       "      <td>1000</td>\n",
       "      <td>2</td>\n",
       "      <td>45.45%</td>\n",
       "    </tr>\n",
       "  </tbody>\n",
       "</table><h4>Secretion</h4><table border=\"1\" class=\"dataframe\">\n",
       "  <thead>\n",
       "    <tr style=\"text-align: right;\">\n",
       "      <th>Metabolite</th>\n",
       "      <th>Reaction</th>\n",
       "      <th>Flux</th>\n",
       "      <th>C-Number</th>\n",
       "      <th>C-Flux</th>\n",
       "    </tr>\n",
       "  </thead>\n",
       "  <tbody>\n",
       "    <tr>\n",
       "      <td>cpd00001_e0</td>\n",
       "      <td>EX_cpd00001_e0</td>\n",
       "      <td>-200</td>\n",
       "      <td>0</td>\n",
       "      <td>0.00%</td>\n",
       "    </tr>\n",
       "    <tr>\n",
       "      <td>cpd00071_e0</td>\n",
       "      <td>EX_cpd00071_e0</td>\n",
       "      <td>-1000</td>\n",
       "      <td>2</td>\n",
       "      <td>45.45%</td>\n",
       "    </tr>\n",
       "    <tr>\n",
       "      <td>cpd00221_e0</td>\n",
       "      <td>EX_cpd00221_e0</td>\n",
       "      <td>-800</td>\n",
       "      <td>3</td>\n",
       "      <td>54.55%</td>\n",
       "    </tr>\n",
       "  </tbody>\n",
       "</table>"
      ],
      "text/plain": [
       "<cobra.summary.model_summary.ModelSummary at 0x1a418d88308>"
      ]
     },
     "metadata": {},
     "output_type": "display_data"
    }
   ],
   "source": [
    "from modelseedpy.fbapkg import revbinpkg\n",
    "\n",
    "# apply the RevBin constraints \n",
    "revbin = revbinpkg.RevBinPkg(model)\n",
    "revbin.build_package()\n",
    "\n",
    "with model:\n",
    "    # set the objective function\n",
    "    model.objective = model.reactions.rxn08427_c0.forward_variable \n",
    "    display(model.summary())"
   ]
  },
  {
   "cell_type": "markdown",
   "metadata": {},
   "source": [
    "# -----------------------------------------------------------------------------------------------------------------------------------------------------------------------------------"
   ]
  },
  {
   "cell_type": "markdown",
   "metadata": {},
   "source": [
    "# SimpleThermo package test"
   ]
  },
  {
   "cell_type": "markdown",
   "metadata": {},
   "source": [
    "The SimpleThermo package prevents flux through thermodynamically infeasible reactions. This is exemplified in the following demonstrations. \n",
    "\n",
    "The first demonstration executes the model in an empty media, which is an infeasible environment for growth. The unconstrained model grows, while the SimpleThermo-constrained model does not grow. \n",
    "The second demonstration optimizes the model for an internal loop (FRD7_c0) in the *E. coli* core model. The unconstrained model possesses a maximal objective value, while the SimpleThermo-constrained model possesses an objective value of zero.   "
   ]
  },
  {
   "cell_type": "markdown",
   "metadata": {},
   "source": [
    "## Unconstrained simulation"
   ]
  },
  {
   "cell_type": "markdown",
   "metadata": {},
   "source": [
    "### Execute the model with conventional objective"
   ]
  },
  {
   "cell_type": "code",
   "execution_count": 4,
   "metadata": {},
   "outputs": [
    {
     "name": "stderr",
     "output_type": "stream",
     "text": [
      "WARNING:cobrakbase.core.kbasefba.fbamodel_builder:unable to add sink for [cpd02701_c0]: not found\n",
      "WARNING:cobrakbase.core.kbasefba.fbamodel_builder:unable to add sink for [cpd15302_c0]: not found\n",
      "WARNING:cobrakbase.core.kbasefba.fbamodel_builder:unable to add sink for [cpd11416_c0]: not found\n"
     ]
    },
    {
     "data": {
      "text/plain": [
       "{}"
      ]
     },
     "metadata": {},
     "output_type": "display_data"
    },
    {
     "data": {
      "text/html": [
       "<h3>Objective</h3><p>1.0 bio1 = 0.0</p><h4>Uptake</h4><table border=\"1\" class=\"dataframe\">\n",
       "  <thead>\n",
       "    <tr style=\"text-align: right;\">\n",
       "      <th>Metabolite</th>\n",
       "      <th>Reaction</th>\n",
       "      <th>Flux</th>\n",
       "      <th>C-Number</th>\n",
       "      <th>C-Flux</th>\n",
       "    </tr>\n",
       "  </thead>\n",
       "  <tbody>\n",
       "  </tbody>\n",
       "</table><h4>Secretion</h4><table border=\"1\" class=\"dataframe\">\n",
       "  <thead>\n",
       "    <tr style=\"text-align: right;\">\n",
       "      <th>Metabolite</th>\n",
       "      <th>Reaction</th>\n",
       "      <th>Flux</th>\n",
       "      <th>C-Number</th>\n",
       "      <th>C-Flux</th>\n",
       "    </tr>\n",
       "  </thead>\n",
       "  <tbody>\n",
       "  </tbody>\n",
       "</table>"
      ],
      "text/plain": [
       "<cobra.summary.model_summary.ModelSummary at 0x1a4193023c8>"
      ]
     },
     "metadata": {},
     "output_type": "display_data"
    }
   ],
   "source": [
    "model = kbase.get_from_ws('e_coli_core.kb', 94253)\n",
    "\n",
    "with model:\n",
    "    # edit the model media\n",
    "    medium = model.medium\n",
    "    medium = {}\n",
    "    model.medium = medium\n",
    "    display(model.medium)\n",
    "\n",
    "    # execute the model\n",
    "    display(model.summary())"
   ]
  },
  {
   "cell_type": "markdown",
   "metadata": {},
   "source": [
    "### Execute the model with internal loop objective"
   ]
  },
  {
   "cell_type": "code",
   "execution_count": 5,
   "metadata": {},
   "outputs": [
    {
     "data": {
      "text/html": [
       "<h3>Objective</h3><p>1.0 FRD7_c0 = 1000.0</p><h4>Uptake</h4><table border=\"1\" class=\"dataframe\">\n",
       "  <thead>\n",
       "    <tr style=\"text-align: right;\">\n",
       "      <th>Metabolite</th>\n",
       "      <th>Reaction</th>\n",
       "      <th>Flux</th>\n",
       "      <th>C-Number</th>\n",
       "      <th>C-Flux</th>\n",
       "    </tr>\n",
       "  </thead>\n",
       "  <tbody>\n",
       "  </tbody>\n",
       "</table><h4>Secretion</h4><table border=\"1\" class=\"dataframe\">\n",
       "  <thead>\n",
       "    <tr style=\"text-align: right;\">\n",
       "      <th>Metabolite</th>\n",
       "      <th>Reaction</th>\n",
       "      <th>Flux</th>\n",
       "      <th>C-Number</th>\n",
       "      <th>C-Flux</th>\n",
       "    </tr>\n",
       "  </thead>\n",
       "  <tbody>\n",
       "  </tbody>\n",
       "</table>"
      ],
      "text/plain": [
       "<cobra.summary.model_summary.ModelSummary at 0x1a419213648>"
      ]
     },
     "metadata": {},
     "output_type": "display_data"
    }
   ],
   "source": [
    "with model:\n",
    "    model.objective = model.reactions.FRD7_c0\n",
    "    display(model.summary())"
   ]
  },
  {
   "cell_type": "markdown",
   "metadata": {},
   "source": [
    "## SimpleThermo-constrained simulation"
   ]
  },
  {
   "cell_type": "markdown",
   "metadata": {},
   "source": [
    "### Constrain the model"
   ]
  },
  {
   "cell_type": "code",
   "execution_count": 6,
   "metadata": {},
   "outputs": [
    {
     "name": "stderr",
     "output_type": "stream",
     "text": [
      "WARNING:cobrakbase.core.kbasefba.fbamodel_builder:unable to add sink for [cpd02701_c0]: not found\n",
      "WARNING:cobrakbase.core.kbasefba.fbamodel_builder:unable to add sink for [cpd15302_c0]: not found\n",
      "WARNING:cobrakbase.core.kbasefba.fbamodel_builder:unable to add sink for [cpd11416_c0]: not found\n"
     ]
    }
   ],
   "source": [
    "# ensure that all charges are integers\n",
    "model = kbase.get_from_ws('e_coli_core.kb', 94253)\n",
    "for metabolite in model.metabolites:\n",
    "    try:\n",
    "        metabolite.charge = int(metabolite.charge)\n",
    "    except:\n",
    "        print(metabolite, metabolite.charge)\n",
    "        metabolite.charge = None\n",
    "        \n",
    "# apply the simple thermodynamic constraints \n",
    "from modelseedpy.fbapkg import simplethermopkg\n",
    "stp = simplethermopkg.SimpleThermoPkg(model)\n",
    "stp.build_package(stp.parameters)\n",
    "\n",
    "# export the constrained LP file \n",
    "with open('SimpleThermo.lp', 'w') as out:\n",
    "    out.write(str(model.solver))"
   ]
  },
  {
   "cell_type": "markdown",
   "metadata": {},
   "source": [
    "### Execute the model in empty media"
   ]
  },
  {
   "cell_type": "code",
   "execution_count": 7,
   "metadata": {},
   "outputs": [
    {
     "data": {
      "text/plain": [
       "{}"
      ]
     },
     "metadata": {},
     "output_type": "display_data"
    },
    {
     "data": {
      "text/html": [
       "<h3>Objective</h3><p>1.0 bio1 = 0.0</p><h4>Uptake</h4><table border=\"1\" class=\"dataframe\">\n",
       "  <thead>\n",
       "    <tr style=\"text-align: right;\">\n",
       "      <th>Metabolite</th>\n",
       "      <th>Reaction</th>\n",
       "      <th>Flux</th>\n",
       "      <th>C-Number</th>\n",
       "      <th>C-Flux</th>\n",
       "    </tr>\n",
       "  </thead>\n",
       "  <tbody>\n",
       "  </tbody>\n",
       "</table><h4>Secretion</h4><table border=\"1\" class=\"dataframe\">\n",
       "  <thead>\n",
       "    <tr style=\"text-align: right;\">\n",
       "      <th>Metabolite</th>\n",
       "      <th>Reaction</th>\n",
       "      <th>Flux</th>\n",
       "      <th>C-Number</th>\n",
       "      <th>C-Flux</th>\n",
       "    </tr>\n",
       "  </thead>\n",
       "  <tbody>\n",
       "  </tbody>\n",
       "</table>"
      ],
      "text/plain": [
       "<cobra.summary.model_summary.ModelSummary at 0x1a4193fdb88>"
      ]
     },
     "metadata": {},
     "output_type": "display_data"
    }
   ],
   "source": [
    "with model:\n",
    "    # edit the model media\n",
    "    medium = model.medium\n",
    "    medium = {}\n",
    "    model.medium = medium\n",
    "    display(model.medium)\n",
    "\n",
    "    # execute the model\n",
    "    display(model.summary())"
   ]
  },
  {
   "cell_type": "markdown",
   "metadata": {},
   "source": [
    "### Execute the model with an optimized internal flux"
   ]
  },
  {
   "cell_type": "code",
   "execution_count": 8,
   "metadata": {},
   "outputs": [
    {
     "data": {
      "text/html": [
       "<h3>Objective</h3><p>1.0 FRD7_c0 = 1000.0</p><h4>Uptake</h4><table border=\"1\" class=\"dataframe\">\n",
       "  <thead>\n",
       "    <tr style=\"text-align: right;\">\n",
       "      <th>Metabolite</th>\n",
       "      <th>Reaction</th>\n",
       "      <th>Flux</th>\n",
       "      <th>C-Number</th>\n",
       "      <th>C-Flux</th>\n",
       "    </tr>\n",
       "  </thead>\n",
       "  <tbody>\n",
       "  </tbody>\n",
       "</table><h4>Secretion</h4><table border=\"1\" class=\"dataframe\">\n",
       "  <thead>\n",
       "    <tr style=\"text-align: right;\">\n",
       "      <th>Metabolite</th>\n",
       "      <th>Reaction</th>\n",
       "      <th>Flux</th>\n",
       "      <th>C-Number</th>\n",
       "      <th>C-Flux</th>\n",
       "    </tr>\n",
       "  </thead>\n",
       "  <tbody>\n",
       "  </tbody>\n",
       "</table>"
      ],
      "text/plain": [
       "<cobra.summary.model_summary.ModelSummary at 0x1a419222688>"
      ]
     },
     "metadata": {},
     "output_type": "display_data"
    }
   ],
   "source": [
    "with model:\n",
    "    # execute the simulation\n",
    "    model.objective = model.reactions.FRD7_c0\n",
    "    display(model.summary())"
   ]
  },
  {
   "cell_type": "markdown",
   "metadata": {},
   "source": [
    "# -----------------------------------------------------------------------------------------------------------------------------------------------------------------------------------"
   ]
  },
  {
   "cell_type": "markdown",
   "metadata": {},
   "source": [
    "# Brainstorming"
   ]
  },
  {
   "cell_type": "code",
   "execution_count": 9,
   "metadata": {
    "scrolled": true
   },
   "outputs": [
    {
     "name": "stdout",
     "output_type": "stream",
     "text": [
      "rxn00549_c0\n",
      "rxn05312_c0\n",
      "rxn00247_c0\n",
      "rxn00786_c0\n",
      "rxn08865_c0\n",
      "rxn01200_c0\n",
      "rxn08525_c0\n",
      "FRD7_c0\n",
      "rxn00545_c0\n",
      "rxn09270_c0\n",
      "rxn00173_c0\n",
      "rxn08288_c0\n",
      "rxn00459_c0\n",
      "rxn00083_c0\n",
      "rxn00097_c0\n",
      "rxn32421_c0\n",
      "rxn00154_c0\n",
      "rxn19316_c0\n",
      "rxn00187_c0\n",
      "rxn00558_c0\n",
      "rxn05319_c0\n",
      "rxn00747_c0\n",
      "rxn05468_c0\n",
      "rxn35242_c0\n",
      "rxn08535_c0\n",
      "rxn01115_c0\n",
      "rxn00225_c0\n",
      "rxn00500_c0\n",
      "rxn08350_c0\n",
      "rxn20162_c0\n",
      "rxn01333_c0\n",
      "rxn30674_c0\n",
      "rxn01100_c0\n",
      "rxn39085_c0\n",
      "rxn08173_c0\n",
      "rxn00285_c0\n",
      "rxn00161_c0\n",
      "rxn00543_c0\n",
      "rxn05297_c0\n",
      "rxn05467_c0\n",
      "rxn05488_c0\n",
      "rxn00085_c0\n",
      "rxn00062_c0\n",
      "rxn34258_c0\n",
      "rxn00171_c0\n",
      "rxn05559_c0\n",
      "rxn09272_c0\n",
      "rxn00604_c0\n",
      "rxn00159_c0\n",
      "rxn08972_c0\n",
      "rxn08542_c0\n",
      "rxn01106_c0\n",
      "rxn00198_c0\n",
      "rxn01476_c0\n",
      "rxn00781_c0\n",
      "rxn09295_c0\n",
      "rxn00785_c0\n",
      "rxn08032_c0\n",
      "rxn00189_c0\n",
      "rxn00336_c0\n",
      "rxn00147_c0\n",
      "rxn09269_c0\n",
      "rxn00248_c0\n",
      "rxn00974_c0\n",
      "rxn05493_c0\n",
      "rxn00777_c0\n",
      "rxn08094_c0\n",
      "rxn05226_c0\n",
      "rxn05155_c0\n",
      "rxn08427_c0\n",
      "rxn00184_c0\n",
      "rxn05469_c0\n",
      "rxn32587_c0\n",
      "rxn01116_c0\n",
      "bio1\n",
      "EX_cpd00067_e0\n",
      "EX_cpd00001_e0\n",
      "EX_cpd00363_e0\n",
      "EX_cpd00023_e0\n",
      "EX_cpd00007_e0\n",
      "EX_cpd00029_e0\n",
      "EX_cpd00013_e0\n",
      "EX_cpd00036_e0\n",
      "EX_cpd00130_e0\n",
      "EX_cpd00221_e0\n",
      "EX_cpd00011_e0\n",
      "EX_cpd00020_e0\n",
      "EX_cpd00106_e0\n",
      "EX_cpd00082_e0\n",
      "EX_cpd00009_e0\n",
      "EX_cpd00027_e0\n",
      "EX_cpd00053_e0\n",
      "EX_cpd00071_e0\n",
      "EX_cpd00047_e0\n",
      "EX_cpd00024_e0\n"
     ]
    }
   ],
   "source": [
    "for reaction in model.reactions:\n",
    "    print(reaction.id)"
   ]
  },
  {
   "cell_type": "code",
   "execution_count": 10,
   "metadata": {},
   "outputs": [
    {
     "name": "stderr",
     "output_type": "stream",
     "text": [
      "WARNING:cobra.summary.model_summary:Non-linear or non-reaction model objective. Falling back to minimal display.\n"
     ]
    },
    {
     "data": {
      "text/html": [
       "<h3>Objective</h3><p>nan Expression = nan</p><h4>Uptake</h4><table border=\"1\" class=\"dataframe\">\n",
       "  <thead>\n",
       "    <tr style=\"text-align: right;\">\n",
       "      <th>Metabolite</th>\n",
       "      <th>Reaction</th>\n",
       "      <th>Flux</th>\n",
       "      <th>C-Number</th>\n",
       "      <th>C-Flux</th>\n",
       "    </tr>\n",
       "  </thead>\n",
       "  <tbody>\n",
       "    <tr>\n",
       "      <td>cpd00007_e0</td>\n",
       "      <td>EX_cpd00007_e0</td>\n",
       "      <td>100</td>\n",
       "      <td>0</td>\n",
       "      <td>0.00%</td>\n",
       "    </tr>\n",
       "    <tr>\n",
       "      <td>cpd00020_e0</td>\n",
       "      <td>EX_cpd00020_e0</td>\n",
       "      <td>800</td>\n",
       "      <td>3</td>\n",
       "      <td>54.55%</td>\n",
       "    </tr>\n",
       "    <tr>\n",
       "      <td>cpd00363_e0</td>\n",
       "      <td>EX_cpd00363_e0</td>\n",
       "      <td>1000</td>\n",
       "      <td>2</td>\n",
       "      <td>45.45%</td>\n",
       "    </tr>\n",
       "  </tbody>\n",
       "</table><h4>Secretion</h4><table border=\"1\" class=\"dataframe\">\n",
       "  <thead>\n",
       "    <tr style=\"text-align: right;\">\n",
       "      <th>Metabolite</th>\n",
       "      <th>Reaction</th>\n",
       "      <th>Flux</th>\n",
       "      <th>C-Number</th>\n",
       "      <th>C-Flux</th>\n",
       "    </tr>\n",
       "  </thead>\n",
       "  <tbody>\n",
       "    <tr>\n",
       "      <td>cpd00001_e0</td>\n",
       "      <td>EX_cpd00001_e0</td>\n",
       "      <td>-200</td>\n",
       "      <td>0</td>\n",
       "      <td>0.00%</td>\n",
       "    </tr>\n",
       "    <tr>\n",
       "      <td>cpd00071_e0</td>\n",
       "      <td>EX_cpd00071_e0</td>\n",
       "      <td>-1000</td>\n",
       "      <td>2</td>\n",
       "      <td>45.45%</td>\n",
       "    </tr>\n",
       "    <tr>\n",
       "      <td>cpd00221_e0</td>\n",
       "      <td>EX_cpd00221_e0</td>\n",
       "      <td>-800</td>\n",
       "      <td>3</td>\n",
       "      <td>54.55%</td>\n",
       "    </tr>\n",
       "  </tbody>\n",
       "</table>"
      ],
      "text/plain": [
       "<cobra.summary.model_summary.ModelSummary at 0x1a4191cd808>"
      ]
     },
     "execution_count": 10,
     "metadata": {},
     "output_type": "execute_result"
    }
   ],
   "source": [
    "objective_coefficient = {}\n",
    "objective_coefficient[model.reactions.rxn08427_c0.forward_variable] = 1\n",
    "\n",
    "# define the maximum progression\n",
    "model.objective = model.problem.Objective(Zero, direction='max')\n",
    "model.objective.set_linear_coefficients(objective_coefficient)\n",
    "\n",
    "# execute the model\n",
    "model.summary()"
   ]
  },
  {
   "cell_type": "code",
   "execution_count": 11,
   "metadata": {},
   "outputs": [
    {
     "name": "stdout",
     "output_type": "stream",
     "text": [
      "0 <= rxn08427_c0 <= 1000.0\n"
     ]
    },
    {
     "data": {
      "text/plain": [
       "['__add__',\n",
       " '__class__',\n",
       " '__copy__',\n",
       " '__deepcopy__',\n",
       " '__delattr__',\n",
       " '__dict__',\n",
       " '__dir__',\n",
       " '__doc__',\n",
       " '__eq__',\n",
       " '__format__',\n",
       " '__ge__',\n",
       " '__getattribute__',\n",
       " '__getstate__',\n",
       " '__gt__',\n",
       " '__hash__',\n",
       " '__iadd__',\n",
       " '__imul__',\n",
       " '__init__',\n",
       " '__init_subclass__',\n",
       " '__isub__',\n",
       " '__le__',\n",
       " '__lt__',\n",
       " '__module__',\n",
       " '__mul__',\n",
       " '__ne__',\n",
       " '__new__',\n",
       " '__radd__',\n",
       " '__reduce__',\n",
       " '__reduce_ex__',\n",
       " '__repr__',\n",
       " '__setattr__',\n",
       " '__setstate__',\n",
       " '__sizeof__',\n",
       " '__str__',\n",
       " '__sub__',\n",
       " '__subclasshook__',\n",
       " '__weakref__',\n",
       " '_annotation',\n",
       " '_associate_gene',\n",
       " '_check_bounds',\n",
       " '_dissociate_gene',\n",
       " '_gene_reaction_rule',\n",
       " '_genes',\n",
       " '_get_rev_and_max_min_flux',\n",
       " '_id',\n",
       " '_lower_bound',\n",
       " '_metabolites',\n",
       " '_model',\n",
       " '_repr_html_',\n",
       " '_set_id_with_model',\n",
       " '_to_json',\n",
       " '_update_awareness',\n",
       " '_upper_bound',\n",
       " 'add_metabolites',\n",
       " 'aliases',\n",
       " 'annotation',\n",
       " 'boundary',\n",
       " 'bounds',\n",
       " 'build_reaction_from_string',\n",
       " 'build_reaction_string',\n",
       " 'check_mass_balance',\n",
       " 'compartment',\n",
       " 'compartments',\n",
       " 'copy',\n",
       " 'dblinks',\n",
       " 'delete',\n",
       " 'flux',\n",
       " 'flux_expression',\n",
       " 'forward_variable',\n",
       " 'from_json',\n",
       " 'functional',\n",
       " 'gene_name_reaction_rule',\n",
       " 'gene_reaction_rule',\n",
       " 'genes',\n",
       " 'get_coefficient',\n",
       " 'get_coefficients',\n",
       " 'get_compartments',\n",
       " 'id',\n",
       " 'imported_gpr',\n",
       " 'knock_out',\n",
       " 'lower_bound',\n",
       " 'metabolites',\n",
       " 'model',\n",
       " 'modelReactionProteins',\n",
       " 'modelcompartment_ref',\n",
       " 'name',\n",
       " 'notes',\n",
       " 'objective_coefficient',\n",
       " 'probability',\n",
       " 'products',\n",
       " 'protons',\n",
       " 'reactants',\n",
       " 'reaction',\n",
       " 'reaction_ref',\n",
       " 'reduced_cost',\n",
       " 'remove_from_model',\n",
       " 'reverse_id',\n",
       " 'reverse_variable',\n",
       " 'reversibility',\n",
       " 'string_attributes',\n",
       " 'subsystem',\n",
       " 'subtract_metabolites',\n",
       " 'summary',\n",
       " 'update_variable_bounds',\n",
       " 'upper_bound',\n",
       " 'x',\n",
       " 'y']"
      ]
     },
     "execution_count": 11,
     "metadata": {},
     "output_type": "execute_result"
    }
   ],
   "source": [
    "forv = model.reactions.rxn08427_c0.forward_variable \n",
    "print(forv)\n",
    "dir(model.reactions.rxn08427_c0)"
   ]
  }
 ],
 "metadata": {
  "kernelspec": {
   "display_name": "Python 3",
   "language": "python",
   "name": "python3"
  },
  "language_info": {
   "codemirror_mode": {
    "name": "ipython",
    "version": 3
   },
   "file_extension": ".py",
   "mimetype": "text/x-python",
   "name": "python",
   "nbconvert_exporter": "python",
   "pygments_lexer": "ipython3",
   "version": "3.7.4"
  }
 },
 "nbformat": 4,
 "nbformat_minor": 2
}
