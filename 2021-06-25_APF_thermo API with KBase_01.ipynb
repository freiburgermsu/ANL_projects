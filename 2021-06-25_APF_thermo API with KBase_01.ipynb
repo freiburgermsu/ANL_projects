{
 "cells": [
  {
   "cell_type": "markdown",
   "metadata": {},
   "source": [
    "### Library and model imports "
   ]
  },
  {
   "cell_type": "code",
   "execution_count": 1,
   "metadata": {},
   "outputs": [],
   "source": [
    "# general module imports\n",
    "from optlang.symbolics import Zero, add\n",
    "import json\n",
    "import re\n",
    "\n",
    "# import the thermodynamic API\n",
    "import thermodynamic_API_KBase_01\n",
    "\n",
    "# import the kbase model\n",
    "os.environ[\"HOME\"] = 'C:\\\\Users\\\\Andrew Freiburger\\\\Dropbox\\\\My PC (DESKTOP-M302P50)\\\\Documents\\\\UVic Civil Engineering\\\\Internships\\\\Agronne\\\\cobrakbase'\n",
    "import cobrakbase\n",
    "token = 'SF3CW6PH4CKWSRMOA3JQPSGC6YERTRSF'\n",
    "kbase = cobrakbase.KBaseAPI(token)\n",
    "object_json = kbase.get_object('E_iAH991V2', 93832)\n",
    "\n",
    "# import modelseed\n",
    "import modelseedpy\n",
    "from modelseedpy.biochem import from_local\n",
    "modelseed_path = '..\\..\\..\\Biofilm growth code\\GSWL code\\ModelSEEDDatabase'\n",
    "modelseed = modelseedpy.biochem.from_local(modelseed_path)\n",
    "\n",
    "# import the E. coli COBRA model\n",
    "import cobra\n",
    "bigg_model_path = '..\\COBRA function scripts\\e_coli_core metabolism from BiGG.json'\n",
    "model = cobra.io.load_json_model(bigg_model_path)"
   ]
  },
  {
   "cell_type": "markdown",
   "metadata": {},
   "source": [
    "## Creating a sample thermodynamic dataset  "
   ]
  },
  {
   "cell_type": "markdown",
   "metadata": {},
   "source": [
    "A sample dataset is created that will be passed through the following example"
   ]
  },
  {
   "cell_type": "code",
   "execution_count": 2,
   "metadata": {},
   "outputs": [],
   "source": [
    "import pandas\n",
    "import re\n",
    "\n",
    "# acquire Gibbs reactions data from the TMFA supplementary excel file        \n",
    "reactions_data = pandas.read_excel('Supplementary file.xls', sheet_name = 'Reactions')\n",
    "reactions_data.columns = reactions_data.iloc[0]\n",
    "reactions_data.drop(reactions_data.index[0], axis = 0, inplace = True)\n",
    "reactions_data.head()\n",
    "reactions_dict = {}\n",
    "for index, row in reactions_data.iterrows():\n",
    "    reaction_abbreviation = reactions_data.at[index, 'iJR904 Abbreviation']\n",
    "    reaction_name = reactions_data.at[index, 'Reaction name']\n",
    "    reaction_gibbs = reactions_data.at[index, 'Estimated Gibbs free energy change of reaction (kcal/mol)']\n",
    "\n",
    "    reactions_dict[reaction_abbreviation] = {'name': reaction_name, 'gibbs': reaction_gibbs}\n",
    "\n",
    "# acquire Gibbs compounds data from the TMFA supplementary excel file        \n",
    "compounds_data = pandas.read_excel('Supplementary file.xls', sheet_name = 'Compounds')\n",
    "compounds_dict = {}\n",
    "for index, row in compounds_data.iterrows():\n",
    "    compound_abbreviation = compounds_data.at[index, 'iJR904 Abbreviation']\n",
    "    compound_name = compounds_data.at[index, 'Compound Name']\n",
    "    compound_charge = compounds_data.at[index, 'Charge at pH 7*']\n",
    "    try:\n",
    "        compound_gibbs = float(compounds_data.at[index, 'Estimated Gibbs free energy of formation (kcal/mol)']) / calorie\n",
    "    except:\n",
    "        compound_gibbs = 0\n",
    "\n",
    "    compounds_dict[compound_abbreviation] = {'name': compound_name, 'gibbs': compound_gibbs, 'charge': compound_charge}"
   ]
  },
  {
   "cell_type": "markdown",
   "metadata": {},
   "source": [
    "# Base FBA functionality"
   ]
  },
  {
   "cell_type": "markdown",
   "metadata": {},
   "source": [
    "The Base FBA class introduces the essential functions that are inherited into the following functions.  "
   ]
  },
  {
   "cell_type": "code",
   "execution_count": 3,
   "metadata": {
    "scrolled": false
   },
   "outputs": [
    {
     "name": "stdout",
     "output_type": "stream",
     "text": [
      "BaseFBApkg \n",
      " ==========\n",
      "\n",
      "+ __init__\n",
      "model used:  e_coli_core\n",
      "instance name:  test_model\n",
      "variable types:  {'concentration': 'float', 'lnconc': 'float'}\n",
      "constraint types:  {'concentration': 'float'}\n",
      "\n",
      "+ validate_parameters\n",
      "parameters before:  {}\n",
      "parameters after:  {'a': 2, 'b': 4, 'c': 3, 'd': 1}\n",
      "\n",
      "+ build_variable\n",
      "variables before:  {'concentration': {}, 'lnconc': {}}\n",
      "variables after:  {'concentration': {'PFK': 10 <= PFK_concentration <= 133}, 'lnconc': {}}\n",
      "\n",
      "+ build_constraint\n",
      "constraints before:  {'concentration': {}}\n",
      "constraints after:  {'concentration': {'PFK': <optlang.cplex_interface.Constraint object at 0x00000182A5155748>}}\n",
      "\n",
      "+ all_variables\n",
      "model variables:  {'concentration': {'PFK': 10 <= PFK_concentration <= 133}, 'lnconc': {}}\n",
      "\n",
      "+ all_constraints\n",
      "model constraints:  {'concentration': {'PFK': <optlang.cplex_interface.Constraint object at 0x00000182A5155748>}}\n",
      "\n",
      "+ revert_to_original\n",
      "added variables before:  {'10 <= PFK_concentration <= 133'}\n",
      "added constraints before:  {'PFK_concentration: 10 <= 0 <= 133'}\n",
      "added variables after:  set()\n",
      "added constraints after:  set()\n"
     ]
    }
   ],
   "source": [
    "model = cobra.io.load_json_model(bigg_model_path)\n",
    "announcement = 'BaseFBApkg'\n",
    "print(announcement, '\\n', '='*len(announcement))\n",
    "\n",
    "\n",
    "#--------------------------- __init__ ---------------------------------\n",
    "print('\\n+ __init__')\n",
    "\n",
    "base = thermodynamic_model_02.BaseFBAPkg(model = model, name = 'test_model')      \n",
    "\n",
    "print('model used: ', base.model)\n",
    "print('instance name: ', base.name)\n",
    "print('variable types: ', base.variable_types)\n",
    "print('constraint types: ', base.constraint_types)\n",
    "\n",
    "\n",
    "#-------------------------- validate_parameters -----------------------\n",
    "print('\\n+ validate_parameters')\n",
    "\n",
    "params = {'a':2, 'b':4, 'c':3}\n",
    "required = ['a', 'b', 'c']\n",
    "defaults = {'a':1, 'b':1, 'c':1, 'd':1}\n",
    "\n",
    "print('parameters before: ', base.parameters)\n",
    "base.validate_parameters(params, required, defaults)\n",
    "print('parameters after: ', base.parameters)\n",
    "\n",
    "\n",
    "#-------------------------- build_variable -----------------------------\n",
    "print('\\n+ build_variable')\n",
    "print('variables before: ', base.variables)\n",
    "\n",
    "base.build_variable(kind = 'concentration', lower_bound = 10, upper_bound = 133, vartype = 'continuous', object = model.reactions.get_by_id('PFK'))\n",
    "\n",
    "print('variables after: ', base.variables)\n",
    "\n",
    "\n",
    "#--------------------------- build_constraint --------------------------\n",
    "print('\\n+ build_constraint')\n",
    "print('constraints before: ', base.constraints)\n",
    "\n",
    "base.build_constraint(constraint_expression = 0, kind = 'concentration', lower_bound = 10, upper_bound = 133, object = model.reactions.get_by_id('PFK'), coef = {})\n",
    "\n",
    "print('constraints after: ', base.constraints)\n",
    "\n",
    "\n",
    "#---------------------------- all_variables -----------------------------\n",
    "print('\\n+ all_variables')\n",
    "print('model variables: ', base.all_variables())\n",
    "\n",
    "\n",
    "#--------------------------- all_constraints ----------------------------\n",
    "print('\\n+ all_constraints')\n",
    "print('model constraints: ', base.all_constraints())\n",
    "\n",
    "\n",
    "#--------------------------- revert_to_original --------------------------\n",
    "print('\\n+ revert_to_original')\n",
    "\n",
    "model2 = cobra.io.load_json_model(bigg_model_path)\n",
    "\n",
    "variables = []\n",
    "constraints = []\n",
    "for var in model.variables:\n",
    "    variables.append(str(var))\n",
    "for constraint in model.constraints:\n",
    "    constraints.append(str(constraint))\n",
    "    \n",
    "variables2 = []\n",
    "constraints2 = []\n",
    "for var in model2.variables:\n",
    "    variables2.append(str(var))\n",
    "for constraint in model2.constraints:\n",
    "    constraints2.append(str(constraint))\n",
    "    \n",
    "difference_variables = set(variables) - set(variables2)\n",
    "print('added variables before: ', difference_variables)\n",
    "difference_constraints = set(constraints) - set(constraints2)\n",
    "print('added constraints before: ', difference_constraints)\n",
    "\n",
    "model = base.revert_to_original(cobra_model_path = bigg_model_path)\n",
    "\n",
    "variables = []\n",
    "constraints = []\n",
    "for var in model.variables:\n",
    "    variables.append(str(var))\n",
    "for constraint in model.constraints:\n",
    "    constraints.append(str(constraint))\n",
    "    \n",
    "variables2 = []\n",
    "constraints2 = []\n",
    "for var in model2.variables:\n",
    "    variables2.append(str(var))\n",
    "for constraint in model2.constraints:\n",
    "    constraints2.append(str(constraint))\n",
    "    \n",
    "difference_variables = set(variables) - set(variables2)\n",
    "print('added variables after: ', difference_variables)\n",
    "difference_constraints = set(constraints) - set(constraints2)\n",
    "print('added constraints after: ', difference_constraints)"
   ]
  },
  {
   "cell_type": "markdown",
   "metadata": {},
   "source": [
    "# RevBin functionality"
   ]
  },
  {
   "cell_type": "markdown",
   "metadata": {},
   "source": [
    "A reaction is evaluated as a variable for the forward and backward fluxes. "
   ]
  },
  {
   "cell_type": "code",
   "execution_count": 4,
   "metadata": {
    "scrolled": true
   },
   "outputs": [
    {
     "name": "stdout",
     "output_type": "stream",
     "text": [
      "\n",
      " Revbin \n",
      " ======\n",
      "\n",
      "+ __init__\n",
      "model used:  e_coli_core\n",
      "instance name:  reversible binary\n",
      "variable types:  {'revbin': 'reaction', 'forv': 'reaction', 'revv': 'reaction'}\n",
      "constraint types:  {'revbinF': 'reaction', 'revbinR': 'reaction'}\n",
      "\n",
      "+ build_constraint\n",
      "constraints before:  {'revbinF': {}, 'revbinR': {}}\n",
      "constraints after:  {'revbinF': {'PFK': <optlang.cplex_interface.Constraint object at 0x00000182A6433188>}, 'revbinR': {'PFK': <optlang.cplex_interface.Constraint object at 0x00000182A6433D88>}}\n",
      "\n",
      "+ build_package\n",
      "constraints before:  2\n",
      "The constraints for PFL, PGI, PGK, PGL, ACALD, AKGt2r, PGM, PIt2r, ALCD2x, ACALDt, ACKr, PPC, ACONTa, ACONTb, ATPM, PPCK, ACt2r, PPS, ADK1, AKGDH, ATPS4r, PTAr, PYK, BIOMASS_Ecoli_core_w_GAM, PYRt2, CO2t, RPE, CS, RPI, SUCCt2_2, CYTBD, D_LACt2, ENO, SUCCt3, ETOHt2r, SUCDi, SUCOAS, TALA, THD2, TKT1, TKT2, TPI, EX_ac_e, EX_acald_e, EX_akg_e, EX_co2_e, EX_etoh_e, EX_for_e, EX_fru_e, EX_fum_e, EX_glc__D_e, EX_gln__L_e, EX_glu__L_e, EX_h_e, EX_h2o_e, EX_lac__D_e, EX_mal__L_e, EX_nh4_e, EX_o2_e, EX_pi_e, EX_pyr_e, EX_succ_e, FBA, FBP, FORt2, FORt, FRD7, FRUpts2, FUM, FUMt2_2, G6PDH2r, GAPD, GLCpts, GLNS, GLNabc, GLUDy, GLUN, GLUSy, GLUt2r, GND, H2Ot, ICDHyr, ICL, LDH_D, MALS, MALt2_2, MDH, ME1, ME2, NADH16, NADTRHD, NH4t, O2t, PDH were added to the model.\n",
      "constraints after:  190\n"
     ]
    }
   ],
   "source": [
    "model = cobra.io.load_json_model(bigg_model_path)\n",
    "announcement = 'Revbin'\n",
    "print('\\n', announcement, '\\n', '='*len(announcement))\n",
    "\n",
    "\n",
    "#--------------------------- __init__ ---------------------------------\n",
    "print('\\n+ __init__')\n",
    "\n",
    "revbin = thermodynamic_model_02.RevBinPkg(model, object = model.reactions.get_by_id('PFK'))\n",
    "\n",
    "print('model used: ', revbin.model)\n",
    "print('instance name: ', revbin.name)\n",
    "print('variable types: ', revbin.variable_types)\n",
    "print('constraint types: ', revbin.constraint_types)\n",
    "\n",
    "\n",
    "#------------------------- build_constraint ---------------------------\n",
    "print('\\n+ build_constraint')\n",
    "print('constraints before: ', revbin.constraints)\n",
    "\n",
    "revbin.build_constraint(object = model.reactions.get_by_id('PFK'))\n",
    "\n",
    "print('constraints after: ', revbin.constraints)\n",
    "\n",
    "\n",
    "#------------------------- build_package ------------------------------\n",
    "print('\\n+ build_package')\n",
    "constraints = []\n",
    "for constraint in revbin.constraints:\n",
    "    for datam in revbin.constraints[constraint]:\n",
    "        constraints.append(str(datam))\n",
    "print('constraints before: ', len(constraints))\n",
    "\n",
    "revbin.build_package(filter = constraints)\n",
    "\n",
    "constraints = []\n",
    "for constraint in revbin.constraints:\n",
    "    for datam in revbin.constraints[constraint]:\n",
    "        constraints.append(str(datam))\n",
    "print('constraints after: ', len(constraints))\n",
    "\n",
    "\n",
    "#------------------------- revert_to_original --------------------------\n",
    "model = revbin.revert_to_original(cobra_model_path = bigg_model_path)"
   ]
  },
  {
   "cell_type": "markdown",
   "metadata": {},
   "source": [
    "# Simple Thermo functionality"
   ]
  },
  {
   "cell_type": "markdown",
   "metadata": {},
   "source": [
    "The thermodynamic perspectives of each object metabolite are determined. The class parameterizes each metabolite as a variable, and thereby presumes nothing of the metabolite thermodynamics.  "
   ]
  },
  {
   "cell_type": "code",
   "execution_count": 5,
   "metadata": {
    "scrolled": false
   },
   "outputs": [
    {
     "name": "stdout",
     "output_type": "stream",
     "text": [
      "\n",
      " Simple Thermo \n",
      " =============\n",
      "\n",
      "+ __init__\n",
      "model used:  e_coli_core\n",
      "instance name:  simple thermo\n",
      "variable types:  {'potential': 'metabolite', 'concentration_potential': 'metabolite', 'revbin': 'binary', 'forv': {}, 'revv': {}}\n",
      "constraint types:  {'simple_thermo': 'reaction', 'revbinF': {}, 'revbinR': {}}\n",
      "\n",
      "+ build_constraint\n",
      "constraints before:  {'simple_thermo': {}, 'revbinF': {}, 'revbinR': {}}\n"
     ]
    },
    {
     "ename": "AttributeError",
     "evalue": "'str' object has no attribute 'name'",
     "output_type": "error",
     "traceback": [
      "\u001b[1;31m---------------------------------------------------------------------------\u001b[0m",
      "\u001b[1;31mAttributeError\u001b[0m                            Traceback (most recent call last)",
      "\u001b[1;32m<ipython-input-5-800778548a40>\u001b[0m in \u001b[0;36m<module>\u001b[1;34m\u001b[0m\n\u001b[0;32m     16\u001b[0m \u001b[0mprint\u001b[0m\u001b[1;33m(\u001b[0m\u001b[1;34m'\\n+ build_constraint'\u001b[0m\u001b[1;33m)\u001b[0m\u001b[1;33m\u001b[0m\u001b[1;33m\u001b[0m\u001b[0m\n\u001b[0;32m     17\u001b[0m \u001b[0mprint\u001b[0m\u001b[1;33m(\u001b[0m\u001b[1;34m'constraints before: '\u001b[0m\u001b[1;33m,\u001b[0m \u001b[0msimple_thermo\u001b[0m\u001b[1;33m.\u001b[0m\u001b[0mconstraints\u001b[0m\u001b[1;33m)\u001b[0m\u001b[1;33m\u001b[0m\u001b[1;33m\u001b[0m\u001b[0m\n\u001b[1;32m---> 18\u001b[1;33m \u001b[0msimple_thermo\u001b[0m\u001b[1;33m.\u001b[0m\u001b[0mbuild_constraint\u001b[0m\u001b[1;33m(\u001b[0m\u001b[0mobject\u001b[0m \u001b[1;33m=\u001b[0m \u001b[0mmodel\u001b[0m\u001b[1;33m.\u001b[0m\u001b[0mreactions\u001b[0m\u001b[1;33m.\u001b[0m\u001b[0mget_by_id\u001b[0m\u001b[1;33m(\u001b[0m\u001b[1;34m'PFK'\u001b[0m\u001b[1;33m)\u001b[0m\u001b[1;33m)\u001b[0m\u001b[1;33m\u001b[0m\u001b[1;33m\u001b[0m\u001b[0m\n\u001b[0m\u001b[0;32m     19\u001b[0m \u001b[0mprint\u001b[0m\u001b[1;33m(\u001b[0m\u001b[1;34m'constraints after: '\u001b[0m\u001b[1;33m,\u001b[0m \u001b[0msimple_thermo\u001b[0m\u001b[1;33m.\u001b[0m\u001b[0mconstraints\u001b[0m\u001b[1;33m)\u001b[0m\u001b[1;33m\u001b[0m\u001b[1;33m\u001b[0m\u001b[0m\n\u001b[0;32m     20\u001b[0m \u001b[1;33m\u001b[0m\u001b[0m\n",
      "\u001b[1;32m~\\Dropbox\\My PC (DESKTOP-M302P50)\\Documents\\UVic Civil Engineering\\Internships\\Agronne\\Thermodynamic model\\thermodynamic_model_02.py\u001b[0m in \u001b[0;36mbuild_constraint\u001b[1;34m(self, object, object_type)\u001b[0m\n\u001b[0;32m    357\u001b[0m                     \u001b[0mcoef\u001b[0m\u001b[1;33m[\u001b[0m\u001b[0mself\u001b[0m\u001b[1;33m.\u001b[0m\u001b[0mvariables\u001b[0m\u001b[1;33m[\u001b[0m\u001b[1;34m\"potential\"\u001b[0m\u001b[1;33m]\u001b[0m\u001b[1;33m[\u001b[0m\u001b[0mmetabolite\u001b[0m\u001b[1;33m.\u001b[0m\u001b[0mid\u001b[0m\u001b[1;33m]\u001b[0m\u001b[1;33m]\u001b[0m \u001b[1;33m=\u001b[0m \u001b[0mstoichiometry\u001b[0m\u001b[1;33m\u001b[0m\u001b[1;33m\u001b[0m\u001b[0m\n\u001b[0;32m    358\u001b[0m \u001b[1;33m\u001b[0m\u001b[0m\n\u001b[1;32m--> 359\u001b[1;33m                 \u001b[0mBaseFBAPkg\u001b[0m\u001b[1;33m.\u001b[0m\u001b[0mbuild_constraint\u001b[0m\u001b[1;33m(\u001b[0m\u001b[0mself\u001b[0m\u001b[1;33m,\u001b[0m \u001b[0mconstraint_expression\u001b[0m \u001b[1;33m=\u001b[0m \u001b[0mZero\u001b[0m\u001b[1;33m,\u001b[0m \u001b[0mkind\u001b[0m \u001b[1;33m=\u001b[0m \u001b[1;34m\"simple_thermo\"\u001b[0m\u001b[1;33m,\u001b[0m \u001b[0mlower_bound\u001b[0m \u001b[1;33m=\u001b[0m \u001b[1;36m0\u001b[0m\u001b[1;33m,\u001b[0m \u001b[0mupper_bound\u001b[0m \u001b[1;33m=\u001b[0m \u001b[1;36m1000\u001b[0m\u001b[1;33m,\u001b[0m \u001b[0mcoef\u001b[0m \u001b[1;33m=\u001b[0m \u001b[0mcoef\u001b[0m\u001b[1;33m,\u001b[0m \u001b[0mobject\u001b[0m \u001b[1;33m=\u001b[0m \u001b[0mobject\u001b[0m\u001b[1;33m,\u001b[0m \u001b[0mobject_type\u001b[0m \u001b[1;33m=\u001b[0m \u001b[1;34m'reaction'\u001b[0m\u001b[1;33m)\u001b[0m\u001b[1;33m\u001b[0m\u001b[1;33m\u001b[0m\u001b[0m\n\u001b[0m\u001b[0;32m    360\u001b[0m \u001b[1;33m\u001b[0m\u001b[0m\n\u001b[0;32m    361\u001b[0m             \u001b[1;32melif\u001b[0m \u001b[0mobject\u001b[0m\u001b[1;33m.\u001b[0m\u001b[0mid\u001b[0m \u001b[1;32min\u001b[0m \u001b[0mself\u001b[0m\u001b[1;33m.\u001b[0m\u001b[0mconstraints\u001b[0m\u001b[1;33m[\u001b[0m\u001b[1;34m'simple_thermo'\u001b[0m\u001b[1;33m]\u001b[0m\u001b[1;33m:\u001b[0m\u001b[1;33m\u001b[0m\u001b[1;33m\u001b[0m\u001b[0m\n",
      "\u001b[1;32m~\\Dropbox\\My PC (DESKTOP-M302P50)\\Documents\\UVic Civil Engineering\\Internships\\Agronne\\Thermodynamic model\\thermodynamic_model_02.py\u001b[0m in \u001b[0;36mbuild_constraint\u001b[1;34m(self, constraint_expression, kind, lower_bound, upper_bound, coef, object, object_type)\u001b[0m\n\u001b[0;32m    176\u001b[0m             \u001b[0mself\u001b[0m\u001b[1;33m.\u001b[0m\u001b[0mmodel\u001b[0m\u001b[1;33m.\u001b[0m\u001b[0msolver\u001b[0m\u001b[1;33m.\u001b[0m\u001b[0mupdate\u001b[0m\u001b[1;33m(\u001b[0m\u001b[1;33m)\u001b[0m\u001b[1;33m\u001b[0m\u001b[1;33m\u001b[0m\u001b[0m\n\u001b[0;32m    177\u001b[0m             \u001b[1;32mif\u001b[0m \u001b[0mlen\u001b[0m\u001b[1;33m(\u001b[0m\u001b[0mcoef\u001b[0m\u001b[1;33m)\u001b[0m \u001b[1;33m>\u001b[0m \u001b[1;36m0\u001b[0m\u001b[1;33m:\u001b[0m\u001b[1;33m\u001b[0m\u001b[1;33m\u001b[0m\u001b[0m\n\u001b[1;32m--> 178\u001b[1;33m                 \u001b[0mself\u001b[0m\u001b[1;33m.\u001b[0m\u001b[0mconstraints\u001b[0m\u001b[1;33m[\u001b[0m\u001b[0mkind\u001b[0m\u001b[1;33m]\u001b[0m\u001b[1;33m[\u001b[0m\u001b[0mname\u001b[0m\u001b[1;33m]\u001b[0m\u001b[1;33m.\u001b[0m\u001b[0mset_linear_coefficients\u001b[0m\u001b[1;33m(\u001b[0m\u001b[0mcoef\u001b[0m\u001b[1;33m)\u001b[0m\u001b[1;33m\u001b[0m\u001b[1;33m\u001b[0m\u001b[0m\n\u001b[0m\u001b[0;32m    179\u001b[0m \u001b[1;33m\u001b[0m\u001b[0m\n\u001b[0;32m    180\u001b[0m             \u001b[0mself\u001b[0m\u001b[1;33m.\u001b[0m\u001b[0mmodel\u001b[0m\u001b[1;33m.\u001b[0m\u001b[0msolver\u001b[0m\u001b[1;33m.\u001b[0m\u001b[0mupdate\u001b[0m\u001b[1;33m(\u001b[0m\u001b[1;33m)\u001b[0m\u001b[1;33m\u001b[0m\u001b[1;33m\u001b[0m\u001b[0m\n",
      "\u001b[1;32mC:\\Program Files (x86)\\Anaconda3\\lib\\site-packages\\optlang\\cplex_interface.py\u001b[0m in \u001b[0;36mset_linear_coefficients\u001b[1;34m(self, coefficients)\u001b[0m\n\u001b[0;32m    222\u001b[0m         \u001b[1;32mif\u001b[0m \u001b[0mself\u001b[0m\u001b[1;33m.\u001b[0m\u001b[0mproblem\u001b[0m \u001b[1;32mis\u001b[0m \u001b[1;32mnot\u001b[0m \u001b[1;32mNone\u001b[0m\u001b[1;33m:\u001b[0m\u001b[1;33m\u001b[0m\u001b[1;33m\u001b[0m\u001b[0m\n\u001b[0;32m    223\u001b[0m             \u001b[0mself\u001b[0m\u001b[1;33m.\u001b[0m\u001b[0mproblem\u001b[0m\u001b[1;33m.\u001b[0m\u001b[0mupdate\u001b[0m\u001b[1;33m(\u001b[0m\u001b[1;33m)\u001b[0m\u001b[1;33m\u001b[0m\u001b[1;33m\u001b[0m\u001b[0m\n\u001b[1;32m--> 224\u001b[1;33m             \u001b[0mtriplets\u001b[0m \u001b[1;33m=\u001b[0m \u001b[1;33m[\u001b[0m\u001b[1;33m(\u001b[0m\u001b[0mself\u001b[0m\u001b[1;33m.\u001b[0m\u001b[0mname\u001b[0m\u001b[1;33m,\u001b[0m \u001b[0mvar\u001b[0m\u001b[1;33m.\u001b[0m\u001b[0mname\u001b[0m\u001b[1;33m,\u001b[0m \u001b[0mfloat\u001b[0m\u001b[1;33m(\u001b[0m\u001b[0mcoeff\u001b[0m\u001b[1;33m)\u001b[0m\u001b[1;33m)\u001b[0m \u001b[1;32mfor\u001b[0m \u001b[0mvar\u001b[0m\u001b[1;33m,\u001b[0m \u001b[0mcoeff\u001b[0m \u001b[1;32min\u001b[0m \u001b[0msix\u001b[0m\u001b[1;33m.\u001b[0m\u001b[0miteritems\u001b[0m\u001b[1;33m(\u001b[0m\u001b[0mcoefficients\u001b[0m\u001b[1;33m)\u001b[0m\u001b[1;33m]\u001b[0m\u001b[1;33m\u001b[0m\u001b[1;33m\u001b[0m\u001b[0m\n\u001b[0m\u001b[0;32m    225\u001b[0m             \u001b[0mself\u001b[0m\u001b[1;33m.\u001b[0m\u001b[0mproblem\u001b[0m\u001b[1;33m.\u001b[0m\u001b[0mproblem\u001b[0m\u001b[1;33m.\u001b[0m\u001b[0mlinear_constraints\u001b[0m\u001b[1;33m.\u001b[0m\u001b[0mset_coefficients\u001b[0m\u001b[1;33m(\u001b[0m\u001b[0mtriplets\u001b[0m\u001b[1;33m)\u001b[0m\u001b[1;33m\u001b[0m\u001b[1;33m\u001b[0m\u001b[0m\n\u001b[0;32m    226\u001b[0m         \u001b[1;32melse\u001b[0m\u001b[1;33m:\u001b[0m\u001b[1;33m\u001b[0m\u001b[1;33m\u001b[0m\u001b[0m\n",
      "\u001b[1;32mC:\\Program Files (x86)\\Anaconda3\\lib\\site-packages\\optlang\\cplex_interface.py\u001b[0m in \u001b[0;36m<listcomp>\u001b[1;34m(.0)\u001b[0m\n\u001b[0;32m    222\u001b[0m         \u001b[1;32mif\u001b[0m \u001b[0mself\u001b[0m\u001b[1;33m.\u001b[0m\u001b[0mproblem\u001b[0m \u001b[1;32mis\u001b[0m \u001b[1;32mnot\u001b[0m \u001b[1;32mNone\u001b[0m\u001b[1;33m:\u001b[0m\u001b[1;33m\u001b[0m\u001b[1;33m\u001b[0m\u001b[0m\n\u001b[0;32m    223\u001b[0m             \u001b[0mself\u001b[0m\u001b[1;33m.\u001b[0m\u001b[0mproblem\u001b[0m\u001b[1;33m.\u001b[0m\u001b[0mupdate\u001b[0m\u001b[1;33m(\u001b[0m\u001b[1;33m)\u001b[0m\u001b[1;33m\u001b[0m\u001b[1;33m\u001b[0m\u001b[0m\n\u001b[1;32m--> 224\u001b[1;33m             \u001b[0mtriplets\u001b[0m \u001b[1;33m=\u001b[0m \u001b[1;33m[\u001b[0m\u001b[1;33m(\u001b[0m\u001b[0mself\u001b[0m\u001b[1;33m.\u001b[0m\u001b[0mname\u001b[0m\u001b[1;33m,\u001b[0m \u001b[0mvar\u001b[0m\u001b[1;33m.\u001b[0m\u001b[0mname\u001b[0m\u001b[1;33m,\u001b[0m \u001b[0mfloat\u001b[0m\u001b[1;33m(\u001b[0m\u001b[0mcoeff\u001b[0m\u001b[1;33m)\u001b[0m\u001b[1;33m)\u001b[0m \u001b[1;32mfor\u001b[0m \u001b[0mvar\u001b[0m\u001b[1;33m,\u001b[0m \u001b[0mcoeff\u001b[0m \u001b[1;32min\u001b[0m \u001b[0msix\u001b[0m\u001b[1;33m.\u001b[0m\u001b[0miteritems\u001b[0m\u001b[1;33m(\u001b[0m\u001b[0mcoefficients\u001b[0m\u001b[1;33m)\u001b[0m\u001b[1;33m]\u001b[0m\u001b[1;33m\u001b[0m\u001b[1;33m\u001b[0m\u001b[0m\n\u001b[0m\u001b[0;32m    225\u001b[0m             \u001b[0mself\u001b[0m\u001b[1;33m.\u001b[0m\u001b[0mproblem\u001b[0m\u001b[1;33m.\u001b[0m\u001b[0mproblem\u001b[0m\u001b[1;33m.\u001b[0m\u001b[0mlinear_constraints\u001b[0m\u001b[1;33m.\u001b[0m\u001b[0mset_coefficients\u001b[0m\u001b[1;33m(\u001b[0m\u001b[0mtriplets\u001b[0m\u001b[1;33m)\u001b[0m\u001b[1;33m\u001b[0m\u001b[1;33m\u001b[0m\u001b[0m\n\u001b[0;32m    226\u001b[0m         \u001b[1;32melse\u001b[0m\u001b[1;33m:\u001b[0m\u001b[1;33m\u001b[0m\u001b[1;33m\u001b[0m\u001b[0m\n",
      "\u001b[1;31mAttributeError\u001b[0m: 'str' object has no attribute 'name'"
     ]
    }
   ],
   "source": [
    "model = cobra.io.load_json_model(bigg_model_path)\n",
    "announcement = 'Simple Thermo'\n",
    "print('\\n', announcement, '\\n', '='*len(announcement))\n",
    "\n",
    "\n",
    "#--------------------------- __init__ ---------------------------------\n",
    "print('\\n+ __init__')\n",
    "simple_thermo = thermodynamic_model_02.SimpleThermoPkg(model, object = model.reactions.get_by_id('PFK'), thermo_reactions = reactions_dict, thermo_compounds = compounds_dict)\n",
    "print('model used: ', simple_thermo.model)\n",
    "print('instance name: ', simple_thermo.name)\n",
    "print('variable types: ', simple_thermo.variable_types)\n",
    "print('constraint types: ', simple_thermo.constraint_types)\n",
    "\n",
    "\n",
    "#-------------------------- build_constraint ---------------------------\n",
    "print('\\n+ build_constraint')\n",
    "print('constraints before: ', simple_thermo.constraints)\n",
    "simple_thermo.build_constraint(object = model.reactions.get_by_id('PFK'))\n",
    "print('constraints after: ', simple_thermo.constraints)\n",
    "\n",
    "\n",
    "#--------------------------- build_package -----------------------------\n",
    "print('\\n+ build_package')\n",
    "print('constraints before: ', simple_thermo.constraints)\n",
    "simple_thermo.build_package()\n",
    "print('constraints after: ', simple_thermo.constraints)\n",
    "\n",
    "\n",
    "#-------------------------- revert_to_original -------------------------\n",
    "model = simple_thermo.revert_to_original(cobra_model_path = bigg_model_path)"
   ]
  },
  {
   "cell_type": "code",
   "execution_count": null,
   "metadata": {},
   "outputs": [],
   "source": [
    "simple_thermo = thermodynamic_model_02.SimpleThermoPkg(model, object = model.reactions.get_by_id('PFK'), thermo_reactions = reactions_dict, thermo_compounds = compounds_dict)\n",
    "\n",
    "for item, value in simple_thermo.thermo_compounds.items(): \n",
    "    print(item, ': ', value)"
   ]
  },
  {
   "cell_type": "markdown",
   "metadata": {},
   "source": [
    "# Full thermo functionality"
   ]
  },
  {
   "cell_type": "markdown",
   "metadata": {},
   "source": [
    "The thermodynamic perspectives of each object metabolite are determined. The class calculates the total energy for each metabolite, which is the sum of each Gibbs potential, concentration potential, and electrochemical potential."
   ]
  },
  {
   "cell_type": "code",
   "execution_count": null,
   "metadata": {
    "scrolled": false
   },
   "outputs": [],
   "source": [
    "model = cobra.io.load_json_model(bigg_model_path)\n",
    "announcement = 'Full Thermo'\n",
    "print('\\n', announcement, '\\n', '='*len(announcement))\n",
    "\n",
    "\n",
    "#--------------------------- __init__ ---------------------------------\n",
    "print('\\n+ __init__')\n",
    "\n",
    "full_thermo = thermodynamic_model_02.FullThermoPkg(model, object = model.reactions.get_by_id('PFK'), thermo_reactions = reactions_dict, thermo_compounds = compounds_dict)\n",
    "\n",
    "print('model used: ', full_thermo.model)\n",
    "print('instance name: ', full_thermo.name)\n",
    "print('variable types: ', full_thermo.variable_types)\n",
    "print('constraint types: ', full_thermo.constraint_types)\n",
    "\n",
    "\n",
    "#------------------------- build_constraint --------------------------\n",
    "print('\\n+ build_constraint')\n",
    "print('constraints before: ', full_thermo.constraints)\n",
    "\n",
    "full_thermo.build_constraint(model = model, object = model.reactions.get_by_id('PFK'), thermodynamics_data_type = 'dictionary)\n",
    "\n",
    "print('constraints after: ', full_thermo.constraints)\n",
    "\n",
    "\n",
    "#------------------------- build_package -----------------------------\n",
    "print('\\n+ build_package')\n",
    "print('constraints before: ', full_thermo.constraints)\n",
    "\n",
    "full_thermo.build_package()\n",
    "\n",
    "constraints = []\n",
    "for constraint in full_thermo.constraints:\n",
    "    for datam in full_thermo.constraints[constraint]:\n",
    "        constraints.append(str(datam))\n",
    "print('constraints after: ', len(constraints))\n",
    "\n",
    "\n",
    "#------------------------- write_lp_file -----------------------------\n",
    "from datetime import date\n",
    "import os \n",
    "\n",
    "print('\\n+ write_lp_file')\n",
    "export_filename = 'Full thermo test'\n",
    "import_iteration = 0\n",
    "filename = '{}_{}_{}.lp'.format(date.today(), export_filename, import_iteration)\n",
    "print('LP file existing before: ', os.path.exists(filename))\n",
    "\n",
    "full_thermo.write_lp_file(model = model, export_filename = export_filename)\n",
    "\n",
    "print('LP file existing after: ', os.path.exists(filename)) \n",
    "os.remove(filename)\n",
    "\n",
    "#------------------------ revert_to_original --------------------------\n",
    "model = full_thermo.revert_to_original(cobra_model_path = bigg_model_path)"
   ]
  }
 ],
 "metadata": {
  "kernelspec": {
   "display_name": "Python 3",
   "language": "python",
   "name": "python3"
  },
  "language_info": {
   "codemirror_mode": {
    "name": "ipython",
    "version": 3
   },
   "file_extension": ".py",
   "mimetype": "text/x-python",
   "name": "python",
   "nbconvert_exporter": "python",
   "pygments_lexer": "ipython3",
   "version": "3.7.4"
  }
 },
 "nbformat": 4,
 "nbformat_minor": 2
}
