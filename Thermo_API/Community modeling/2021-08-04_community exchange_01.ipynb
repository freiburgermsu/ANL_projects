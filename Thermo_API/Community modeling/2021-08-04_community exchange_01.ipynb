{
 "cells": [
  {
   "cell_type": "markdown",
   "metadata": {},
   "source": [
    "# Import the modules "
   ]
  },
  {
   "cell_type": "code",
   "execution_count": 1,
   "metadata": {},
   "outputs": [
    {
     "name": "stdout",
     "output_type": "stream",
     "text": [
      "cobrakbase 0.2.8\n"
     ]
    }
   ],
   "source": [
    "# import the general modules\n",
    "from optlang.symbolics import Zero\n",
    "from itertools import combinations\n",
    "from matplotlib import pyplot\n",
    "from numpy import unique\n",
    "import networkx\n",
    "import cobra\n",
    "import cplex\n",
    "import sys\n",
    "import re\n",
    "\n",
    "# import kbase\n",
    "\n",
    "os.environ[\"HOME\"] = 'C:\\\\Users\\\\Andrew Freiburger\\\\Dropbox\\\\My PC (DESKTOP-M302P50)\\\\Documents\\\\UVic Civil Engineering\\\\Internships\\\\Agronne\\\\cobrakbase'\n",
    "import cobrakbase\n",
    "token = 'I6WL7MAW5Z4QO3OQ62YUR6HJM6RAUFHE'\n",
    "kbase = cobrakbase.KBaseAPI(token)\n",
    "\n",
    "# import modelseedpy packages\n",
    "from modelseedpy import KBaseMediaPkg\n",
    "from modelseedpy.fbapkg import fullthermopkg, elementuptakepkg\n"
   ]
  },
  {
   "cell_type": "markdown",
   "metadata": {},
   "source": [
    "# Define the CommunityFBA function"
   ]
  },
  {
   "cell_type": "code",
   "execution_count": 26,
   "metadata": {},
   "outputs": [],
   "source": [
    "def communityFBA(modelInfo,mediaInfo,kinetic_coeff,abundances=None):\n",
    "    # import the model and media\n",
    "    model = kbase.get_from_ws(modelInfo[0],modelInfo[1])\n",
    "    media = kbase.get_from_ws(mediaInfo[0],mediaInfo[1])\n",
    "    kmp = KBaseMediaPkg(model)\n",
    "    kmp.build_package(media)\n",
    "    model.solver = 'optlang-cplex'\n",
    "    \n",
    "    # applying uptake limit to total carbon uptake by model\n",
    "    '''eup = elementuptakepkg.ElementUptakePkg(model)\n",
    "    eup.build_package({\"C\":60})\n",
    "    '''\n",
    "    \n",
    "    # applying community model kinetic constraints\n",
    "    '''ckp = CommKineticPkg(model)\n",
    "    ckp.build_package(kinetic_coeff,abundances)\n",
    "    '''\n",
    "\n",
    "    # unambiguously define the model objective \n",
    "    biomass_objective = model.problem.Objective(\n",
    "        1 * model.reactions.bio1.flux_expression,\n",
    "        direction='max')\n",
    "    model.objective = biomass_objective\n",
    "\n",
    "    # excute FBA\n",
    "    solution = model.optimize()\n",
    "    display(model.summary())\n",
    "    '''pfba_solution = cobra.flux_analysis.pfba(model)'''\n",
    "    \n",
    "    # calculate the metabolic exchanges\n",
    "    metabolite_uptake = {}\n",
    "    compartment_numbers = []\n",
    "    for rxn in model.reactions:\n",
    "        if (rxn.id[-2] == 'c' or rxn.id[-2] == 'p') and rxn.id[-1] != '0':\n",
    "            compartment_number = rxn.id[-1]\n",
    "            '''print(compartment_number, '\\t', rxn.id)'''\n",
    "            compartment_numbers.append(compartment_number)\n",
    "            '''else:\n",
    "                print('--->', compartment_number, '\\t', rxn.id)'''\n",
    "\n",
    "            for metabolite in rxn.metabolites:\n",
    "                if metabolite.compartment == \"e0\":\n",
    "                    rate_law = 0\n",
    "                    flux = solution.fluxes[rxn.id]\n",
    "                    if flux != 0:\n",
    "                        rate_law += rxn.metabolites[metabolite]*flux\n",
    "                        metabolite_uptake[(metabolite.id,compartment_number)] = rate_law\n",
    "\n",
    "    compartment_numbers = unique(compartment_numbers)\n",
    "    number_of_compartments = len(compartment_numbers)\n",
    "\n",
    "    # cross feeding of extracellular metabolites amongst the community members\n",
    "    cross_all = []\n",
    "    for rxn in model.reactions:\n",
    "        for metabolite in rxn.metabolites:\n",
    "            if metabolite.compartment == \"e0\":\n",
    "                # determine each directional flux rate \n",
    "                rate_out = {compartment_number: rate for (metabolite_id, compartment_number), rate in metabolite_uptake.items() if metabolite_id == metabolite.id and rate > 0}\n",
    "                rate_in = {compartment_number: -rate for (metabolite_id, compartment_number), rate in metabolite_uptake.items() if metabolite_id == metabolite.id and -rate > 0}\n",
    "\n",
    "                # determine total directional flux rate \n",
    "                total_in = sum(rate_in.values())\n",
    "                total_out = sum(rate_out.values())\n",
    "                max_total_rate = max(total_in, total_out)\n",
    "\n",
    "                # determine net flux \n",
    "                if total_in > total_out:\n",
    "                    rate_out[None] = total_in - total_out\n",
    "                if total_in < total_out:\n",
    "                    rate_in[None] = total_out - total_in\n",
    "\n",
    "                # establish the metabolites that partake in cross feeding \n",
    "                cross = [(o1, o2, metabolite, r1 * r2 / max_total_rate) for o1, r1 in rate_out.items() for o2, r2 in rate_in.items()]\n",
    "                cross_all.extend(cross) # [donor, receiver, compound, rate]\n",
    "\n",
    "    '''for i in cross_all:\n",
    "        print(i)'''\n",
    "\n",
    "    # establish the production and consumption of nutrients in each compartment\n",
    "    production = [[0] * number_of_compartments for i in range(number_of_compartments)] #production[donorSpecies][receiverSpecies]\n",
    "    consumption = [[0] * number_of_compartments for i in range(number_of_compartments)]\n",
    "\n",
    "    for i in cross_all:\n",
    "        if i[0] is not None and i[1] is not None:\n",
    "            production[int(i[0])-1][int(i[1])-1] += i[3]\n",
    "            consumption[int(i[1])-1][int(i[0])-1] += i[3]\n",
    "\n",
    "    # graph the resultant community interaction\n",
    "    graph = networkx.Graph()\n",
    "    for i in compartment_numbers:\n",
    "        print(i)\n",
    "        graph.add_node(i)\n",
    "    for k in combinations(compartment_numbers, 2):\n",
    "        sp1 = int(k[0])-1\n",
    "        sp2 = int(k[1])-1\n",
    "        if production[sp1][sp2] > consumption[sp2][sp1]:\n",
    "            interaction_flux = production[sp1][sp2]\n",
    "        else:\n",
    "            interaction_flux = consumption[sp2][sp1]\n",
    "        graph.add_edge(k[0],k[1],weight=interaction_flux)\n",
    "\n",
    "    pos = networkx.circular_layout(graph)\n",
    "    networkx.draw_networkx(graph,pos)\n",
    "    labels = networkx.get_edge_attributes(graph,'weight')\n",
    "    networkx.draw_networkx_edge_labels(graph,pos,edge_labels=labels)"
   ]
  },
  {
   "cell_type": "markdown",
   "metadata": {},
   "source": [
    "# The 2-member Zahmeeth model"
   ]
  },
  {
   "cell_type": "markdown",
   "metadata": {},
   "source": [
    "## Unconstained model"
   ]
  },
  {
   "cell_type": "markdown",
   "metadata": {},
   "source": [
    "### Define and execute the model"
   ]
  },
  {
   "cell_type": "code",
   "execution_count": 27,
   "metadata": {
    "scrolled": true
   },
   "outputs": [
    {
     "name": "stderr",
     "output_type": "stream",
     "text": [
      "WARNING:cobrakbase.core.kbasefba.fbamodel_builder:unable to add sink for [cpd15302_c0]: not found\n",
      "WARNING:cobrakbase.core.kbasefba.fbamodel_builder:unable to add sink for [cpd02701_c0]: not found\n"
     ]
    },
    {
     "data": {
      "text/html": [
       "<h3>Objective</h3><p>1.0 bio1 = 0.17375024029002126</p><h4>Uptake</h4><table border=\"1\" class=\"dataframe\">\n",
       "  <thead>\n",
       "    <tr style=\"text-align: right;\">\n",
       "      <th>Metabolite</th>\n",
       "      <th>Reaction</th>\n",
       "      <th>Flux</th>\n",
       "      <th>C-Number</th>\n",
       "      <th>C-Flux</th>\n",
       "    </tr>\n",
       "  </thead>\n",
       "  <tbody>\n",
       "    <tr>\n",
       "      <td>cpd00009_e0</td>\n",
       "      <td>EX_cpd00009_e0</td>\n",
       "      <td>0.2375</td>\n",
       "      <td>0</td>\n",
       "      <td>0.00%</td>\n",
       "    </tr>\n",
       "    <tr>\n",
       "      <td>cpd00013_e0</td>\n",
       "      <td>EX_cpd00013_e0</td>\n",
       "      <td>1.933</td>\n",
       "      <td>0</td>\n",
       "      <td>0.00%</td>\n",
       "    </tr>\n",
       "    <tr>\n",
       "      <td>cpd00027_e0</td>\n",
       "      <td>EX_cpd00027_e0</td>\n",
       "      <td>5</td>\n",
       "      <td>6</td>\n",
       "      <td>99.86%</td>\n",
       "    </tr>\n",
       "    <tr>\n",
       "      <td>cpd00028_e0</td>\n",
       "      <td>EX_cpd00028_e0</td>\n",
       "      <td>0.0004055</td>\n",
       "      <td>34</td>\n",
       "      <td>0.05%</td>\n",
       "    </tr>\n",
       "    <tr>\n",
       "      <td>cpd00030_e0</td>\n",
       "      <td>EX_cpd00030_e0</td>\n",
       "      <td>0.0004656</td>\n",
       "      <td>0</td>\n",
       "      <td>0.00%</td>\n",
       "    </tr>\n",
       "    <tr>\n",
       "      <td>cpd00034_e0</td>\n",
       "      <td>EX_cpd00034_e0</td>\n",
       "      <td>0.0004352</td>\n",
       "      <td>0</td>\n",
       "      <td>0.00%</td>\n",
       "    </tr>\n",
       "    <tr>\n",
       "      <td>cpd00048_e0</td>\n",
       "      <td>EX_cpd00048_e0</td>\n",
       "      <td>0.0003769</td>\n",
       "      <td>0</td>\n",
       "      <td>0.00%</td>\n",
       "    </tr>\n",
       "    <tr>\n",
       "      <td>cpd00058_e0</td>\n",
       "      <td>EX_cpd00058_e0</td>\n",
       "      <td>6.159E-05</td>\n",
       "      <td>0</td>\n",
       "      <td>0.00%</td>\n",
       "    </tr>\n",
       "    <tr>\n",
       "      <td>cpd00063_e0</td>\n",
       "      <td>EX_cpd00063_e0</td>\n",
       "      <td>0.0008577</td>\n",
       "      <td>0</td>\n",
       "      <td>0.00%</td>\n",
       "    </tr>\n",
       "    <tr>\n",
       "      <td>cpd00098_e0</td>\n",
       "      <td>EX_cpd00098_e0</td>\n",
       "      <td>0.0004055</td>\n",
       "      <td>5</td>\n",
       "      <td>0.01%</td>\n",
       "    </tr>\n",
       "    <tr>\n",
       "      <td>cpd00099_e0</td>\n",
       "      <td>EX_cpd00099_e0</td>\n",
       "      <td>0.0004522</td>\n",
       "      <td>0</td>\n",
       "      <td>0.00%</td>\n",
       "    </tr>\n",
       "    <tr>\n",
       "      <td>cpd00149_e0</td>\n",
       "      <td>EX_cpd00149_e0</td>\n",
       "      <td>0.0004077</td>\n",
       "      <td>0</td>\n",
       "      <td>0.00%</td>\n",
       "    </tr>\n",
       "    <tr>\n",
       "      <td>cpd00205_e0</td>\n",
       "      <td>EX_cpd00205_e0</td>\n",
       "      <td>0.01736</td>\n",
       "      <td>0</td>\n",
       "      <td>0.00%</td>\n",
       "    </tr>\n",
       "    <tr>\n",
       "      <td>cpd00239_e0</td>\n",
       "      <td>EX_cpd00239_e0</td>\n",
       "      <td>0.04423</td>\n",
       "      <td>0</td>\n",
       "      <td>0.00%</td>\n",
       "    </tr>\n",
       "    <tr>\n",
       "      <td>cpd00244_e0</td>\n",
       "      <td>EX_cpd00244_e0</td>\n",
       "      <td>2.806E-05</td>\n",
       "      <td>0</td>\n",
       "      <td>0.00%</td>\n",
       "    </tr>\n",
       "    <tr>\n",
       "      <td>cpd00254_e0</td>\n",
       "      <td>EX_cpd00254_e0</td>\n",
       "      <td>0.001159</td>\n",
       "      <td>0</td>\n",
       "      <td>0.00%</td>\n",
       "    </tr>\n",
       "    <tr>\n",
       "      <td>cpd00635_e0</td>\n",
       "      <td>EX_cpd00635_e0</td>\n",
       "      <td>0.0004055</td>\n",
       "      <td>62</td>\n",
       "      <td>0.08%</td>\n",
       "    </tr>\n",
       "    <tr>\n",
       "      <td>cpd00971_e0</td>\n",
       "      <td>EX_cpd00971_e0</td>\n",
       "      <td>0.0004055</td>\n",
       "      <td>0</td>\n",
       "      <td>0.00%</td>\n",
       "    </tr>\n",
       "    <tr>\n",
       "      <td>cpd10515_e0</td>\n",
       "      <td>EX_cpd10515_e0</td>\n",
       "      <td>0.001123</td>\n",
       "      <td>0</td>\n",
       "      <td>0.00%</td>\n",
       "    </tr>\n",
       "    <tr>\n",
       "      <td>cpd10516_e0</td>\n",
       "      <td>EX_cpd10516_e0</td>\n",
       "      <td>0.001084</td>\n",
       "      <td>0</td>\n",
       "      <td>0.00%</td>\n",
       "    </tr>\n",
       "    <tr>\n",
       "      <td>cpd11574_e0</td>\n",
       "      <td>EX_cpd11574_e0</td>\n",
       "      <td>6.081E-07</td>\n",
       "      <td>0</td>\n",
       "      <td>0.00%</td>\n",
       "    </tr>\n",
       "    <tr>\n",
       "      <td>cpd00074_c2</td>\n",
       "      <td>sink__DASH__s_c2</td>\n",
       "      <td>0.0004057</td>\n",
       "      <td>0</td>\n",
       "      <td>0.00%</td>\n",
       "    </tr>\n",
       "  </tbody>\n",
       "</table><h4>Secretion</h4><table border=\"1\" class=\"dataframe\">\n",
       "  <thead>\n",
       "    <tr style=\"text-align: right;\">\n",
       "      <th>Metabolite</th>\n",
       "      <th>Reaction</th>\n",
       "      <th>Flux</th>\n",
       "      <th>C-Number</th>\n",
       "      <th>C-Flux</th>\n",
       "    </tr>\n",
       "  </thead>\n",
       "  <tbody>\n",
       "    <tr>\n",
       "      <td>cpd15378_c2</td>\n",
       "      <td>DM__DASH__4HBA_c2</td>\n",
       "      <td>-0.0004249</td>\n",
       "      <td>7</td>\n",
       "      <td>0.01%</td>\n",
       "    </tr>\n",
       "    <tr>\n",
       "      <td>cpd15380_c2</td>\n",
       "      <td>DM__DASH__5DRIB_c2</td>\n",
       "      <td>-0.0004057</td>\n",
       "      <td>5</td>\n",
       "      <td>0.01%</td>\n",
       "    </tr>\n",
       "    <tr>\n",
       "      <td>cpd02701_c2</td>\n",
       "      <td>DM__DASH__AMOB_c2</td>\n",
       "      <td>-0.0004057</td>\n",
       "      <td>15</td>\n",
       "      <td>0.03%</td>\n",
       "    </tr>\n",
       "    <tr>\n",
       "      <td>cpd15380_c1</td>\n",
       "      <td>DM_cpd15380_c1</td>\n",
       "      <td>-3.875E-05</td>\n",
       "      <td>5</td>\n",
       "      <td>0.00%</td>\n",
       "    </tr>\n",
       "    <tr>\n",
       "      <td>12ethd_e0</td>\n",
       "      <td>EX_12ethd_e0</td>\n",
       "      <td>-0.001642</td>\n",
       "      <td>0</td>\n",
       "      <td>0.00%</td>\n",
       "    </tr>\n",
       "    <tr>\n",
       "      <td>cpd00001_e0</td>\n",
       "      <td>EX_cpd00001_e0</td>\n",
       "      <td>-2.799</td>\n",
       "      <td>0</td>\n",
       "      <td>0.00%</td>\n",
       "    </tr>\n",
       "    <tr>\n",
       "      <td>cpd00011_e0</td>\n",
       "      <td>EX_cpd00011_e0</td>\n",
       "      <td>-3.82</td>\n",
       "      <td>1</td>\n",
       "      <td>18.13%</td>\n",
       "    </tr>\n",
       "    <tr>\n",
       "      <td>cpd00029_e0</td>\n",
       "      <td>EX_cpd00029_e0</td>\n",
       "      <td>-4.822</td>\n",
       "      <td>2</td>\n",
       "      <td>45.78%</td>\n",
       "    </tr>\n",
       "    <tr>\n",
       "      <td>cpd00036_e0</td>\n",
       "      <td>EX_cpd00036_e0</td>\n",
       "      <td>-1.897</td>\n",
       "      <td>4</td>\n",
       "      <td>36.01%</td>\n",
       "    </tr>\n",
       "    <tr>\n",
       "      <td>cpd00047_e0</td>\n",
       "      <td>EX_cpd00047_e0</td>\n",
       "      <td>-0.00365</td>\n",
       "      <td>1</td>\n",
       "      <td>0.02%</td>\n",
       "    </tr>\n",
       "    <tr>\n",
       "      <td>cpd00067_e0</td>\n",
       "      <td>EX_cpd00067_e0</td>\n",
       "      <td>-10.31</td>\n",
       "      <td>0</td>\n",
       "      <td>0.00%</td>\n",
       "    </tr>\n",
       "    <tr>\n",
       "      <td>cpd00116_e0</td>\n",
       "      <td>EX_cpd00116_e0</td>\n",
       "      <td>-0.0004057</td>\n",
       "      <td>1</td>\n",
       "      <td>0.00%</td>\n",
       "    </tr>\n",
       "    <tr>\n",
       "      <td>cpd11640_e0</td>\n",
       "      <td>EX_cpd11640_e0</td>\n",
       "      <td>-7.859</td>\n",
       "      <td>0</td>\n",
       "      <td>0.00%</td>\n",
       "    </tr>\n",
       "    <tr>\n",
       "      <td>cpd11416_c0</td>\n",
       "      <td>SK_cpd11416_c0</td>\n",
       "      <td>-0.1738</td>\n",
       "      <td>0</td>\n",
       "      <td>0.00%</td>\n",
       "    </tr>\n",
       "  </tbody>\n",
       "</table>"
      ],
      "text/plain": [
       "<cobra.summary.model_summary.ModelSummary at 0x1c21f160308>"
      ]
     },
     "metadata": {},
     "output_type": "display_data"
    },
    {
     "name": "stdout",
     "output_type": "stream",
     "text": [
      "1\n",
      "2\n"
     ]
    },
    {
     "data": {
      "image/png": "[encoded data removed]",
      "text/plain": [
       "<Figure size 432x288 with 1 Axes>"
      ]
     },
     "metadata": {},
     "output_type": "display_data"
    }
   ],
   "source": [
    "# execute the model and media through the afore-defined function\n",
    "modelInfo_2 = [\"CMM_iAH991V2_iML1515.kb\",40576]\n",
    "mediaInfo_2 = [\"Btheta_Ecoli_minimal_media\",40576]\n",
    "communityFBA(modelInfo_2,mediaInfo_2,2100,{\"1\":0.5,\"2\":0.5})"
   ]
  },
  {
   "cell_type": "markdown",
   "metadata": {},
   "source": [
    "## FullThermo-constrained model"
   ]
  },
  {
   "cell_type": "markdown",
   "metadata": {},
   "source": [
    "### Constrain the model"
   ]
  },
  {
   "cell_type": "code",
   "execution_count": null,
   "metadata": {
    "scrolled": true
   },
   "outputs": [
    {
     "name": "stderr",
     "output_type": "stream",
     "text": [
      "WARNING:cobrakbase.core.kbasefba.fbamodel_builder:unable to add sink for [cpd15302_c0]: not found\n",
      "WARNING:cobrakbase.core.kbasefba.fbamodel_builder:unable to add sink for [cpd02701_c0]: not found\n"
     ]
    }
   ],
   "source": [
    "# import the model and media\n",
    "model = kbase.get_from_ws('CMM_iAH991V2_iML1515.kb',40576)\n",
    "media = kbase.get_from_ws(\"Btheta_Ecoli_minimal_media\",40576)\n",
    "kmp = KBaseMediaPkg(model)\n",
    "kmp.build_package(media)\n",
    "\n",
    "# implement FullThermo with dgbin constraints\n",
    "modelseed_db_path = '..\\..\\..\\Biofilm growth code\\GSWL code\\ModelSEEDDatabase'\n",
    "ftp = fullthermopkg.FullThermoPkg(model)\n",
    "ftp.build_package({'modelseed_path':modelseed_db_path})\n",
    "\n",
    "# export the constraint model back to KBase\n",
    "kbase.save_object('CMM_iAH991V2_iML1515_FullThermo.kb', 'freiburgermsu:narrative_1624557251879', 'KBaseFBA.FBAModel', model) # saving the object back to KBase with id=E_iAH991V2 to the workspace freiburgermsu:narrative_1624557251879 assigning this type KBaseFBA.FBAModel and with data=object_json\n",
    "\n",
    "# export the constrained LP file \n",
    "'''with open('FullThermo.lp', 'w') as out:\n",
    "    out.write(str(model.solver))'''"
   ]
  },
  {
   "cell_type": "markdown",
   "metadata": {},
   "source": [
    "### Define and execute the model"
   ]
  },
  {
   "cell_type": "code",
   "execution_count": null,
   "metadata": {
    "scrolled": true
   },
   "outputs": [],
   "source": [
    "# import the model and media\n",
    "model = kbase.get_from_ws('CMM_iAH991V2_iML1515.kb',40576)\n",
    "media = kbase.get_from_ws(\"Btheta_Ecoli_minimal_media\",40576)\n",
    "kmp = KBaseMediaPkg(model)\n",
    "kmp.build_package(media)\n",
    "\n",
    "# establish the CPLEX solver\n",
    "model.solver = 'optlang-cplex'\n",
    "\n",
    "# execute the model\n",
    "model.optimize()\n",
    "model.summary()"
   ]
  },
  {
   "cell_type": "markdown",
   "metadata": {},
   "source": [
    "# The 3-member model"
   ]
  },
  {
   "cell_type": "markdown",
   "metadata": {},
   "source": [
    "## Unconstrained model"
   ]
  },
  {
   "cell_type": "markdown",
   "metadata": {},
   "source": [
    "### Define and execute the model"
   ]
  },
  {
   "cell_type": "code",
   "execution_count": null,
   "metadata": {
    "scrolled": true
   },
   "outputs": [],
   "source": [
    "# 3-member community model\n",
    "model = kbase.get_from_ws('electrosynth_comnty.mdl.gf.2021',93204)\n",
    "media = kbase.get_from_ws(\"CO2_minimal\",93204)\n",
    "kmp = KBaseMediaPkg(model)\n",
    "kmp.build_package(media)\n",
    "\n",
    "# establish the CPLEX solver\n",
    "model.solver = 'optlang-cplex'\n",
    "\n",
    "# execute the model\n",
    "model.optimize()\n",
    "model.summary()"
   ]
  },
  {
   "cell_type": "markdown",
   "metadata": {},
   "source": [
    "## FullThermo-constrained model"
   ]
  },
  {
   "cell_type": "markdown",
   "metadata": {},
   "source": [
    "### Constrain the model"
   ]
  },
  {
   "cell_type": "code",
   "execution_count": null,
   "metadata": {},
   "outputs": [],
   "source": [
    "from modelseedpy.fbapkg import fullthermopkg\n",
    "\n",
    "# implement FullThermo with dgbin constraints\n",
    "modelseed_db_path = '..\\..\\..\\Biofilm growth code\\GSWL code\\ModelSEEDDatabase'\n",
    "ftp = fullthermopkg.FullThermoPkg(model)\n",
    "ftp.build_package({'modelseed_path':modelseed_db_path})\n",
    "\n",
    "# export the constrained LP file \n",
    "'''with open('FullThermo.lp', 'w') as out:\n",
    "    out.write(str(model.solver))'''"
   ]
  },
  {
   "cell_type": "markdown",
   "metadata": {},
   "source": [
    "### Define and execute the model"
   ]
  },
  {
   "cell_type": "code",
   "execution_count": null,
   "metadata": {},
   "outputs": [],
   "source": [
    "# 3-member community model\n",
    "model = kbase.get_from_ws('electrosynth_comnty.mdl.gf.2021',93204)\n",
    "media = kbase.get_from_ws(\"CO2_minimal\",93204)\n",
    "kmp = KBaseMediaPkg(model)\n",
    "kmp.build_package(media)\n",
    "\n",
    "# establish the CPLEX solver\n",
    "model.solver = 'optlang-cplex'\n",
    "\n",
    "# execute the model\n",
    "model.optimize()\n",
    "model.summary()"
   ]
  },
  {
   "cell_type": "markdown",
   "metadata": {},
   "source": [
    "# Brainstorming"
   ]
  },
  {
   "cell_type": "code",
   "execution_count": null,
   "metadata": {},
   "outputs": [],
   "source": [
    "rxn = '123_p0'\n",
    "\n",
    "if rxn[-1] != '0' and rxn[-1] != 0:\n",
    "    print(rxn[-1])"
   ]
  },
  {
   "cell_type": "code",
   "execution_count": null,
   "metadata": {},
   "outputs": [],
   "source": [
    "rxn = '123_p1'\n",
    "compartment_index = rxn.rfind(\"_\")\n",
    "\n",
    "if (rxn[compartment_index + 1] == 'p' or 'c') and rxn[compartment_index + 2: ] != '0':\n",
    "    species = rxn[compartment_index + 2:]\n",
    "    print(species)"
   ]
  },
  {
   "cell_type": "code",
   "execution_count": null,
   "metadata": {},
   "outputs": [],
   "source": [
    "reaction_number = 0\n",
    "for reaction in model.reactions:\n",
    "    reaction_number += 1\n",
    "    \n",
    "print(reaction_number)"
   ]
  }
 ],
 "metadata": {
  "kernelspec": {
   "display_name": "Python 3",
   "language": "python",
   "name": "python3"
  },
  "language_info": {
   "codemirror_mode": {
    "name": "ipython",
    "version": 3
   },
   "file_extension": ".py",
   "mimetype": "text/x-python",
   "name": "python",
   "nbconvert_exporter": "python",
   "pygments_lexer": "ipython3",
   "version": "3.7.4"
  }
 },
 "nbformat": 4,
 "nbformat_minor": 2
}
