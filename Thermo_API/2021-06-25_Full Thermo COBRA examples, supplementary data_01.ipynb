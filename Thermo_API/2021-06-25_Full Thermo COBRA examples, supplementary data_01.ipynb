{
 "cells": [
  {
   "cell_type": "markdown",
   "metadata": {},
   "source": [
    "# Executing the initial model"
   ]
  },
  {
   "cell_type": "code",
   "execution_count": 1,
   "metadata": {},
   "outputs": [],
   "source": [
    "import cobra\n",
    "\n",
    "# locally import the E. coli core BiGG model\n",
    "bigg_model_path = '..\\COBRA function scripts\\e_coli_core metabolism from BiGG.json'\n",
    "model = cobra.io.load_json_model(bigg_model_path)"
   ]
  },
  {
   "cell_type": "markdown",
   "metadata": {},
   "source": [
    "##  Standard aerobic media "
   ]
  },
  {
   "cell_type": "code",
   "execution_count": 2,
   "metadata": {},
   "outputs": [
    {
     "name": "stdout",
     "output_type": "stream",
     "text": [
      "model media \n",
      " ===========\n"
     ]
    },
    {
     "data": {
      "text/plain": [
       "{'EX_co2_e': 1000.0,\n",
       " 'EX_glc__D_e': 10.0,\n",
       " 'EX_h_e': 1000.0,\n",
       " 'EX_h2o_e': 1000.0,\n",
       " 'EX_nh4_e': 1000.0,\n",
       " 'EX_o2_e': 1000.0,\n",
       " 'EX_pi_e': 1000.0}"
      ]
     },
     "metadata": {},
     "output_type": "display_data"
    },
    {
     "data": {
      "text/html": [
       "<h3>Objective</h3><p>1.0 BIOMASS_Ecoli_core_w_GAM = 0.8739215069684301</p><h4>Uptake</h4><table border=\"1\" class=\"dataframe\">\n",
       "  <thead>\n",
       "    <tr style=\"text-align: right;\">\n",
       "      <th>Metabolite</th>\n",
       "      <th>Reaction</th>\n",
       "      <th>Flux</th>\n",
       "      <th>C-Number</th>\n",
       "      <th>C-Flux</th>\n",
       "    </tr>\n",
       "  </thead>\n",
       "  <tbody>\n",
       "    <tr>\n",
       "      <td>glc__D_e</td>\n",
       "      <td>EX_glc__D_e</td>\n",
       "      <td>10</td>\n",
       "      <td>6</td>\n",
       "      <td>100.00%</td>\n",
       "    </tr>\n",
       "    <tr>\n",
       "      <td>nh4_e</td>\n",
       "      <td>EX_nh4_e</td>\n",
       "      <td>4.765</td>\n",
       "      <td>0</td>\n",
       "      <td>0.00%</td>\n",
       "    </tr>\n",
       "    <tr>\n",
       "      <td>o2_e</td>\n",
       "      <td>EX_o2_e</td>\n",
       "      <td>21.8</td>\n",
       "      <td>0</td>\n",
       "      <td>0.00%</td>\n",
       "    </tr>\n",
       "    <tr>\n",
       "      <td>pi_e</td>\n",
       "      <td>EX_pi_e</td>\n",
       "      <td>3.215</td>\n",
       "      <td>0</td>\n",
       "      <td>0.00%</td>\n",
       "    </tr>\n",
       "  </tbody>\n",
       "</table><h4>Secretion</h4><table border=\"1\" class=\"dataframe\">\n",
       "  <thead>\n",
       "    <tr style=\"text-align: right;\">\n",
       "      <th>Metabolite</th>\n",
       "      <th>Reaction</th>\n",
       "      <th>Flux</th>\n",
       "      <th>C-Number</th>\n",
       "      <th>C-Flux</th>\n",
       "    </tr>\n",
       "  </thead>\n",
       "  <tbody>\n",
       "    <tr>\n",
       "      <td>co2_e</td>\n",
       "      <td>EX_co2_e</td>\n",
       "      <td>-22.81</td>\n",
       "      <td>1</td>\n",
       "      <td>100.00%</td>\n",
       "    </tr>\n",
       "    <tr>\n",
       "      <td>h2o_e</td>\n",
       "      <td>EX_h2o_e</td>\n",
       "      <td>-29.18</td>\n",
       "      <td>0</td>\n",
       "      <td>0.00%</td>\n",
       "    </tr>\n",
       "    <tr>\n",
       "      <td>h_e</td>\n",
       "      <td>EX_h_e</td>\n",
       "      <td>-17.53</td>\n",
       "      <td>0</td>\n",
       "      <td>0.00%</td>\n",
       "    </tr>\n",
       "  </tbody>\n",
       "</table>"
      ],
      "text/plain": [
       "<cobra.summary.model_summary.ModelSummary at 0x17a165e2748>"
      ]
     },
     "execution_count": 2,
     "metadata": {},
     "output_type": "execute_result"
    }
   ],
   "source": [
    "# display the model media\n",
    "message = 'model media'\n",
    "print(message, '\\n', '='*len(message))\n",
    "display(model.medium)\n",
    "\n",
    "# define the model solver\n",
    "model.solver = 'cplex'\n",
    "\n",
    "# display the model results\n",
    "model.summary()"
   ]
  },
  {
   "cell_type": "markdown",
   "metadata": {},
   "source": [
    "## Anaerobic media "
   ]
  },
  {
   "cell_type": "code",
   "execution_count": 3,
   "metadata": {},
   "outputs": [
    {
     "name": "stdout",
     "output_type": "stream",
     "text": [
      "model media \n",
      " ===========\n"
     ]
    },
    {
     "data": {
      "text/plain": [
       "{'EX_co2_e': 1000.0,\n",
       " 'EX_glc__D_e': 10.0,\n",
       " 'EX_h_e': 1000.0,\n",
       " 'EX_h2o_e': 1000.0,\n",
       " 'EX_nh4_e': 1000.0,\n",
       " 'EX_pi_e': 1000.0}"
      ]
     },
     "metadata": {},
     "output_type": "display_data"
    },
    {
     "data": {
      "text/html": [
       "<h3>Objective</h3><p>1.0 BIOMASS_Ecoli_core_w_GAM = 0.21166294973531058</p><h4>Uptake</h4><table border=\"1\" class=\"dataframe\">\n",
       "  <thead>\n",
       "    <tr style=\"text-align: right;\">\n",
       "      <th>Metabolite</th>\n",
       "      <th>Reaction</th>\n",
       "      <th>Flux</th>\n",
       "      <th>C-Number</th>\n",
       "      <th>C-Flux</th>\n",
       "    </tr>\n",
       "  </thead>\n",
       "  <tbody>\n",
       "    <tr>\n",
       "      <td>co2_e</td>\n",
       "      <td>EX_co2_e</td>\n",
       "      <td>0.3782</td>\n",
       "      <td>1</td>\n",
       "      <td>0.63%</td>\n",
       "    </tr>\n",
       "    <tr>\n",
       "      <td>glc__D_e</td>\n",
       "      <td>EX_glc__D_e</td>\n",
       "      <td>10</td>\n",
       "      <td>6</td>\n",
       "      <td>99.37%</td>\n",
       "    </tr>\n",
       "    <tr>\n",
       "      <td>h2o_e</td>\n",
       "      <td>EX_h2o_e</td>\n",
       "      <td>7.116</td>\n",
       "      <td>0</td>\n",
       "      <td>0.00%</td>\n",
       "    </tr>\n",
       "    <tr>\n",
       "      <td>nh4_e</td>\n",
       "      <td>EX_nh4_e</td>\n",
       "      <td>1.154</td>\n",
       "      <td>0</td>\n",
       "      <td>0.00%</td>\n",
       "    </tr>\n",
       "    <tr>\n",
       "      <td>pi_e</td>\n",
       "      <td>EX_pi_e</td>\n",
       "      <td>0.7786</td>\n",
       "      <td>0</td>\n",
       "      <td>0.00%</td>\n",
       "    </tr>\n",
       "  </tbody>\n",
       "</table><h4>Secretion</h4><table border=\"1\" class=\"dataframe\">\n",
       "  <thead>\n",
       "    <tr style=\"text-align: right;\">\n",
       "      <th>Metabolite</th>\n",
       "      <th>Reaction</th>\n",
       "      <th>Flux</th>\n",
       "      <th>C-Number</th>\n",
       "      <th>C-Flux</th>\n",
       "    </tr>\n",
       "  </thead>\n",
       "  <tbody>\n",
       "    <tr>\n",
       "      <td>ac_e</td>\n",
       "      <td>EX_ac_e</td>\n",
       "      <td>-8.504</td>\n",
       "      <td>2</td>\n",
       "      <td>33.11%</td>\n",
       "    </tr>\n",
       "    <tr>\n",
       "      <td>etoh_e</td>\n",
       "      <td>EX_etoh_e</td>\n",
       "      <td>-8.279</td>\n",
       "      <td>2</td>\n",
       "      <td>32.23%</td>\n",
       "    </tr>\n",
       "    <tr>\n",
       "      <td>for_e</td>\n",
       "      <td>EX_for_e</td>\n",
       "      <td>-17.8</td>\n",
       "      <td>1</td>\n",
       "      <td>34.66%</td>\n",
       "    </tr>\n",
       "    <tr>\n",
       "      <td>h_e</td>\n",
       "      <td>EX_h_e</td>\n",
       "      <td>-30.55</td>\n",
       "      <td>0</td>\n",
       "      <td>0.00%</td>\n",
       "    </tr>\n",
       "  </tbody>\n",
       "</table>"
      ],
      "text/plain": [
       "<cobra.summary.model_summary.ModelSummary at 0x17a7f6de9c8>"
      ]
     },
     "execution_count": 3,
     "metadata": {},
     "output_type": "execute_result"
    }
   ],
   "source": [
    "# edit the model media\n",
    "message = 'model media'\n",
    "print(message, '\\n', '='*len(message))\n",
    "media = model.medium\n",
    "media['EX_o2_e'] = 0\n",
    "model.medium = media\n",
    "display(model.medium)\n",
    "\n",
    "# define the model solver\n",
    "model.solver = 'cplex'\n",
    "\n",
    "# display the model results\n",
    "model.summary()"
   ]
  },
  {
   "cell_type": "markdown",
   "metadata": {},
   "source": [
    "# Creating a sample thermodynamic dataset"
   ]
  },
  {
   "cell_type": "code",
   "execution_count": 4,
   "metadata": {},
   "outputs": [],
   "source": [
    "import pandas\n",
    "import cobra\n",
    "import re\n",
    "\n",
    "# locally import the E. coli core BiGG model\n",
    "bigg_model_path = '..\\COBRA function scripts\\e_coli_core metabolism from BiGG.json'\n",
    "model = cobra.io.load_json_model(bigg_model_path)\n",
    "\n",
    "# acquire Gibbs reactions data from the TMFA supplementary excel file        \n",
    "reactions_data = pandas.read_excel('Supplementary file.xls', sheet_name = 'Reactions')\n",
    "reactions_data.columns = reactions_data.iloc[0]\n",
    "reactions_data.drop(reactions_data.index[0], axis = 0, inplace = True)\n",
    "reactions_data.head()\n",
    "reactions_dict = {}\n",
    "for index, row in reactions_data.iterrows():\n",
    "    reaction_abbreviation = reactions_data.at[index, 'iJR904 Abbreviation']\n",
    "    reaction_name = reactions_data.at[index, 'Reaction name']\n",
    "    reaction_gibbs = reactions_data.at[index, 'Estimated Gibbs free energy change of reaction (kcal/mol)']\n",
    "\n",
    "    reactions_dict[reaction_abbreviation] = {'name': reaction_name, 'gibbs': reaction_gibbs}\n",
    "\n",
    "# acquire Gibbs compounds data from the TMFA supplementary excel file        \n",
    "compounds_data = pandas.read_excel('Supplementary file.xls', sheet_name = 'Compounds')\n",
    "compounds_dict = {}\n",
    "for index, row in compounds_data.iterrows():\n",
    "    compound_abbreviation = compounds_data.at[index, 'iJR904 Abbreviation']\n",
    "    compound_name = compounds_data.at[index, 'Compound Name']\n",
    "    compound_charge = compounds_data.at[index, 'Charge at pH 7*']\n",
    "    try:\n",
    "        compound_gibbs = float(compounds_data.at[index, 'Estimated Gibbs free energy of formation (kcal/mol)']) / calorie\n",
    "    except:\n",
    "        compound_gibbs = 0\n",
    "\n",
    "    compounds_dict[compound_abbreviation] = {'name': compound_name, 'gibbs': compound_gibbs, 'charge': compound_charge}"
   ]
  },
  {
   "cell_type": "markdown",
   "metadata": {},
   "source": [
    "# Introducing theromdynamic constraints"
   ]
  },
  {
   "cell_type": "code",
   "execution_count": 5,
   "metadata": {},
   "outputs": [
    {
     "ename": "TypeError",
     "evalue": "loop of ufunc does not support argument 0 of type Variable which has no callable log method",
     "output_type": "error",
     "traceback": [
      "\u001b[1;31m---------------------------------------------------------------------------\u001b[0m",
      "\u001b[1;31mAttributeError\u001b[0m                            Traceback (most recent call last)",
      "\u001b[1;31mAttributeError\u001b[0m: 'Variable' object has no attribute 'log'",
      "\nThe above exception was the direct cause of the following exception:\n",
      "\u001b[1;31mTypeError\u001b[0m                                 Traceback (most recent call last)",
      "\u001b[1;32m<ipython-input-5-efa077ce477f>\u001b[0m in \u001b[0;36m<module>\u001b[1;34m\u001b[0m\n\u001b[0;32m     12\u001b[0m \u001b[1;33m\u001b[0m\u001b[0m\n\u001b[0;32m     13\u001b[0m \u001b[1;31m# create the package of the thermodynamic API\u001b[0m\u001b[1;33m\u001b[0m\u001b[1;33m\u001b[0m\u001b[1;33m\u001b[0m\u001b[0m\n\u001b[1;32m---> 14\u001b[1;33m \u001b[0mfull_thermo\u001b[0m\u001b[1;33m.\u001b[0m\u001b[0mbuild_package\u001b[0m\u001b[1;33m(\u001b[0m\u001b[0mview_errors\u001b[0m \u001b[1;33m=\u001b[0m \u001b[1;32mFalse\u001b[0m\u001b[1;33m)\u001b[0m\u001b[1;33m\u001b[0m\u001b[1;33m\u001b[0m\u001b[0m\n\u001b[0m\u001b[0;32m     15\u001b[0m \u001b[1;33m\u001b[0m\u001b[0m\n\u001b[0;32m     16\u001b[0m \u001b[1;31m#simple_thermo.write_lp_file(model)\u001b[0m\u001b[1;33m\u001b[0m\u001b[1;33m\u001b[0m\u001b[1;33m\u001b[0m\u001b[0m\n",
      "\u001b[1;32m~\\Dropbox\\My PC (DESKTOP-M302P50)\\Documents\\UVic Civil Engineering\\Internships\\Agronne\\Thermodynamic model\\thermodynamic_model_04.py\u001b[0m in \u001b[0;36mbuild_package\u001b[1;34m(self, filter, kind, view_errors, errors_quantity)\u001b[0m\n\u001b[0;32m    539\u001b[0m         \u001b[1;32mfor\u001b[0m \u001b[0mreaction\u001b[0m \u001b[1;32min\u001b[0m \u001b[0mself\u001b[0m\u001b[1;33m.\u001b[0m\u001b[0mmodel\u001b[0m\u001b[1;33m.\u001b[0m\u001b[0mreactions\u001b[0m\u001b[1;33m:\u001b[0m\u001b[1;33m\u001b[0m\u001b[1;33m\u001b[0m\u001b[0m\n\u001b[0;32m    540\u001b[0m             \u001b[1;32mif\u001b[0m \u001b[0mreaction\u001b[0m\u001b[1;33m.\u001b[0m\u001b[0mid\u001b[0m \u001b[1;32mnot\u001b[0m \u001b[1;32min\u001b[0m \u001b[0mfilter\u001b[0m\u001b[1;33m:\u001b[0m\u001b[1;33m\u001b[0m\u001b[1;33m\u001b[0m\u001b[0m\n\u001b[1;32m--> 541\u001b[1;33m                 \u001b[0mself\u001b[0m\u001b[1;33m.\u001b[0m\u001b[0mbuild_constraint\u001b[0m\u001b[1;33m(\u001b[0m\u001b[0mobj\u001b[0m \u001b[1;33m=\u001b[0m \u001b[0mreaction\u001b[0m\u001b[1;33m,\u001b[0m \u001b[0mobj_type\u001b[0m \u001b[1;33m=\u001b[0m \u001b[1;34m'reaction'\u001b[0m\u001b[1;33m,\u001b[0m \u001b[0mkind\u001b[0m \u001b[1;33m=\u001b[0m \u001b[0mkind\u001b[0m\u001b[1;33m,\u001b[0m \u001b[0mview_errors\u001b[0m \u001b[1;33m=\u001b[0m \u001b[0mview_errors\u001b[0m\u001b[1;33m,\u001b[0m \u001b[0merrors_quantity\u001b[0m \u001b[1;33m=\u001b[0m \u001b[0merrors_quantity\u001b[0m\u001b[1;33m)\u001b[0m\u001b[1;33m\u001b[0m\u001b[1;33m\u001b[0m\u001b[0m\n\u001b[0m\u001b[0;32m    542\u001b[0m \u001b[1;33m\u001b[0m\u001b[0m\n\u001b[0;32m    543\u001b[0m         \u001b[1;32mif\u001b[0m \u001b[1;32mnot\u001b[0m \u001b[0mview_errors\u001b[0m\u001b[1;33m:\u001b[0m\u001b[1;33m\u001b[0m\u001b[1;33m\u001b[0m\u001b[0m\n",
      "\u001b[1;32m~\\Dropbox\\My PC (DESKTOP-M302P50)\\Documents\\UVic Civil Engineering\\Internships\\Agronne\\Thermodynamic model\\thermodynamic_model_04.py\u001b[0m in \u001b[0;36mbuild_constraint\u001b[1;34m(self, obj, coef, view_errors, errors_quantity, kind, obj_type)\u001b[0m\n\u001b[0;32m    493\u001b[0m         \u001b[1;32mimport\u001b[0m \u001b[0mre\u001b[0m\u001b[1;33m\u001b[0m\u001b[1;33m\u001b[0m\u001b[0m\n\u001b[0;32m    494\u001b[0m \u001b[1;33m\u001b[0m\u001b[0m\n\u001b[1;32m--> 495\u001b[1;33m         \u001b[0mundescribed_compounds\u001b[0m \u001b[1;33m=\u001b[0m \u001b[0mself\u001b[0m\u001b[1;33m.\u001b[0m\u001b[0mbuild_data\u001b[0m\u001b[1;33m(\u001b[0m\u001b[0mview_errors\u001b[0m \u001b[1;33m=\u001b[0m \u001b[0mview_errors\u001b[0m\u001b[1;33m,\u001b[0m \u001b[0mobj\u001b[0m \u001b[1;33m=\u001b[0m \u001b[0mobj\u001b[0m\u001b[1;33m,\u001b[0m \u001b[0mobj_type\u001b[0m \u001b[1;33m=\u001b[0m \u001b[0mobj_type\u001b[0m\u001b[1;33m,\u001b[0m \u001b[0merrors_quantity\u001b[0m \u001b[1;33m=\u001b[0m \u001b[0merrors_quantity\u001b[0m\u001b[1;33m)\u001b[0m\u001b[1;33m\u001b[0m\u001b[1;33m\u001b[0m\u001b[0m\n\u001b[0m\u001b[0;32m    496\u001b[0m \u001b[1;33m\u001b[0m\u001b[0m\n\u001b[0;32m    497\u001b[0m         \u001b[1;31m# calculate the potential components for the constraint expression calculation\u001b[0m\u001b[1;33m\u001b[0m\u001b[1;33m\u001b[0m\u001b[1;33m\u001b[0m\u001b[0m\n",
      "\u001b[1;32m~\\Dropbox\\My PC (DESKTOP-M302P50)\\Documents\\UVic Civil Engineering\\Internships\\Agronne\\Thermodynamic model\\thermodynamic_model_04.py\u001b[0m in \u001b[0;36mbuild_data\u001b[1;34m(self, obj, view_errors, obj_type, errors_quantity)\u001b[0m\n\u001b[0;32m    476\u001b[0m                     \u001b[0merrors_quantity\u001b[0m\u001b[1;33m,\u001b[0m \u001b[0mself\u001b[0m\u001b[1;33m.\u001b[0m\u001b[0mvariables\u001b[0m\u001b[1;33m[\u001b[0m\u001b[1;34m'concentration'\u001b[0m\u001b[1;33m]\u001b[0m\u001b[1;33m[\u001b[0m\u001b[0mmetabolite\u001b[0m\u001b[1;33m.\u001b[0m\u001b[0mid\u001b[0m\u001b[1;33m]\u001b[0m \u001b[1;33m=\u001b[0m \u001b[0mBaseFBAPkg\u001b[0m\u001b[1;33m.\u001b[0m\u001b[0mbuild_variable\u001b[0m\u001b[1;33m(\u001b[0m\u001b[0mself\u001b[0m\u001b[1;33m,\u001b[0m \u001b[0mkind\u001b[0m \u001b[1;33m=\u001b[0m \u001b[1;34m\"concentration\"\u001b[0m\u001b[1;33m,\u001b[0m \u001b[0mlower_bound\u001b[0m \u001b[1;33m=\u001b[0m \u001b[0mconcentrations\u001b[0m\u001b[1;33m[\u001b[0m\u001b[1;36m0\u001b[0m\u001b[1;33m]\u001b[0m\u001b[1;33m,\u001b[0m \u001b[0mupper_bound\u001b[0m \u001b[1;33m=\u001b[0m \u001b[0mconcentrations\u001b[0m\u001b[1;33m[\u001b[0m\u001b[1;36m1\u001b[0m\u001b[1;33m]\u001b[0m\u001b[1;33m,\u001b[0m \u001b[0mvartype\u001b[0m \u001b[1;33m=\u001b[0m \u001b[1;34m\"continuous\"\u001b[0m\u001b[1;33m,\u001b[0m \u001b[0mobj\u001b[0m \u001b[1;33m=\u001b[0m \u001b[0mmetabolite\u001b[0m\u001b[1;33m,\u001b[0m \u001b[0mview_errors\u001b[0m \u001b[1;33m=\u001b[0m \u001b[0mview_errors\u001b[0m\u001b[1;33m,\u001b[0m \u001b[0merrors_quantity\u001b[0m \u001b[1;33m=\u001b[0m \u001b[0merrors_quantity\u001b[0m\u001b[1;33m,\u001b[0m \u001b[0mobj_type\u001b[0m \u001b[1;33m=\u001b[0m \u001b[1;34m'metabolite'\u001b[0m\u001b[1;33m)\u001b[0m\u001b[1;33m\u001b[0m\u001b[1;33m\u001b[0m\u001b[0m\n\u001b[0;32m    477\u001b[0m \u001b[1;33m\u001b[0m\u001b[0m\n\u001b[1;32m--> 478\u001b[1;33m                     \u001b[0mself\u001b[0m\u001b[1;33m.\u001b[0m\u001b[0mparameters\u001b[0m\u001b[1;33m[\u001b[0m\u001b[1;34m'concentration_potential'\u001b[0m\u001b[1;33m]\u001b[0m\u001b[1;33m[\u001b[0m\u001b[0mmetabolite\u001b[0m\u001b[1;33m.\u001b[0m\u001b[0mid\u001b[0m\u001b[1;33m]\u001b[0m \u001b[1;33m=\u001b[0m \u001b[0mself\u001b[0m\u001b[1;33m.\u001b[0m\u001b[0mthermo_compounds\u001b[0m\u001b[1;33m[\u001b[0m\u001b[0mtmfa_name\u001b[0m\u001b[1;33m]\u001b[0m\u001b[1;33m[\u001b[0m\u001b[1;34m'stoichiometry'\u001b[0m\u001b[1;33m]\u001b[0m \u001b[1;33m*\u001b[0m \u001b[0mln\u001b[0m\u001b[1;33m(\u001b[0m\u001b[0mself\u001b[0m\u001b[1;33m.\u001b[0m\u001b[0mvariables\u001b[0m\u001b[1;33m[\u001b[0m\u001b[1;34m'concentration'\u001b[0m\u001b[1;33m]\u001b[0m\u001b[1;33m[\u001b[0m\u001b[0mmetabolite\u001b[0m\u001b[1;33m.\u001b[0m\u001b[0mid\u001b[0m\u001b[1;33m]\u001b[0m \u001b[1;33m*\u001b[0m \u001b[0mactivity_coefficient\u001b[0m\u001b[1;33m)\u001b[0m\u001b[1;33m\u001b[0m\u001b[1;33m\u001b[0m\u001b[0m\n\u001b[0m\u001b[0;32m    479\u001b[0m \u001b[1;33m\u001b[0m\u001b[0m\n\u001b[0;32m    480\u001b[0m                     \u001b[1;31m# calculate the electrochemical potential term\u001b[0m\u001b[1;33m\u001b[0m\u001b[1;33m\u001b[0m\u001b[1;33m\u001b[0m\u001b[0m\n",
      "\u001b[1;31mTypeError\u001b[0m: loop of ufunc does not support argument 0 of type Variable which has no callable log method"
     ]
    }
   ],
   "source": [
    "# import the COBRA model\n",
    "import cobra\n",
    "bigg_model_path = '..\\COBRA function scripts\\e_coli_core metabolism from BiGG.json'\n",
    "model = cobra.io.load_json_model(bigg_model_path)\n",
    "\n",
    "# import the Thermodynamic API\n",
    "import thermodynamic_model_04\n",
    "\n",
    "# create an instance of the API file\n",
    "full_thermo = thermodynamic_model_04.FullThermoPkg(model = model, thermo_compounds = compounds_dict, thermodynamics_data_type = 'dictionary')\n",
    "#simple_thermo.write_lp_file(model)\n",
    "\n",
    "# create the package of the thermodynamic API\n",
    "full_thermo.build_package(view_errors = False)\n",
    "\n",
    "#simple_thermo.write_lp_file(model)"
   ]
  },
  {
   "cell_type": "markdown",
   "metadata": {},
   "source": [
    "# Executing the thermodynamic model"
   ]
  },
  {
   "cell_type": "markdown",
   "metadata": {},
   "source": [
    "## Standard aerobic media"
   ]
  },
  {
   "cell_type": "code",
   "execution_count": null,
   "metadata": {},
   "outputs": [],
   "source": [
    "# display the model media\n",
    "message = 'model media'\n",
    "print(message, '\\n', '='*len(message))\n",
    "display(model.medium)\n",
    "\n",
    "# define the model solver\n",
    "model.solver = 'cplex'\n",
    "\n",
    "# display the model results\n",
    "model.summary()"
   ]
  },
  {
   "cell_type": "markdown",
   "metadata": {},
   "source": [
    "## Anaerobic media"
   ]
  },
  {
   "cell_type": "code",
   "execution_count": null,
   "metadata": {},
   "outputs": [],
   "source": [
    "# edit the model media\n",
    "message = 'model media'\n",
    "print(message, '\\n', '='*len(message))\n",
    "media = model.medium\n",
    "media['EX_o2_e'] = 0\n",
    "model.medium = media\n",
    "display(model.medium)\n",
    "\n",
    "# define the model solver\n",
    "model.solver = 'cplex'\n",
    "\n",
    "# display the model results\n",
    "model.summary()"
   ]
  },
  {
   "cell_type": "code",
   "execution_count": null,
   "metadata": {},
   "outputs": [],
   "source": []
  }
 ],
 "metadata": {
  "kernelspec": {
   "display_name": "Python 3",
   "language": "python",
   "name": "python3"
  },
  "language_info": {
   "codemirror_mode": {
    "name": "ipython",
    "version": 3
   },
   "file_extension": ".py",
   "mimetype": "text/x-python",
   "name": "python",
   "nbconvert_exporter": "python",
   "pygments_lexer": "ipython3",
   "version": "3.7.4"
  }
 },
 "nbformat": 4,
 "nbformat_minor": 2
}
