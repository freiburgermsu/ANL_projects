{
 "cells": [
  {
   "cell_type": "markdown",
   "metadata": {},
   "source": [
    "# import test model and media"
   ]
  },
  {
   "cell_type": "code",
   "execution_count": 1,
   "metadata": {},
   "outputs": [
    {
     "name": "stdout",
     "output_type": "stream",
     "text": [
      "cobrakbase 0.2.8\n"
     ]
    },
    {
     "name": "stderr",
     "output_type": "stream",
     "text": [
      "WARNING:cobrakbase.core.kbasefba.fbamodel_builder:unable to add sink for [cpd15302_c0]: not found\n",
      "WARNING:cobrakbase.core.kbasefba.fbamodel_builder:unable to add sink for [cpd02701_c0]: not found\n"
     ]
    }
   ],
   "source": [
    "# import the general modules\n",
    "from optlang.symbolics import Zero\n",
    "import cobra\n",
    "import cplex\n",
    "import sys\n",
    "\n",
    "# import kbase\n",
    "import os\n",
    "os.environ[\"HOME\"] = 'C:\\\\Users\\\\Andrew Freiburger\\\\Dropbox\\\\My PC (DESKTOP-M302P50)\\\\Documents\\\\UVic Civil Engineering\\\\Internships\\\\Agronne\\\\cobrakbase'\n",
    "import cobrakbase\n",
    "token = 'I6WL7MAW5Z4QO3OQ62YUR6HJM6RAUFHE'\n",
    "kbase = cobrakbase.KBaseAPI(token)\n",
    "\n",
    "# import modelseedpy packages\n",
    "from modelseedpy import KBaseMediaPkg\n",
    "\n",
    "# import the model and media\n",
    "model = kbase.get_from_ws('CMM_iAH991V2_iML1515.kb',40576)\n",
    "media = kbase.get_from_ws(\"Btheta_Ecoli_minimal_media\",40576)\n",
    "kmp = KBaseMediaPkg(model)\n",
    "kmp.build_package(media)\n",
    "\n",
    "# establish the CPLEX solver\n",
    "model.solver = 'optlang-cplex'"
   ]
  },
  {
   "cell_type": "markdown",
   "metadata": {},
   "source": [
    "# Brainstorming"
   ]
  },
  {
   "cell_type": "code",
   "execution_count": null,
   "metadata": {},
   "outputs": [],
   "source": []
  },
  {
   "cell_type": "code",
   "execution_count": 3,
   "metadata": {},
   "outputs": [
    {
     "name": "stdout",
     "output_type": "stream",
     "text": [
      "4139\n",
      "2944\n"
     ]
    }
   ],
   "source": [
    "reaction_number = 0\n",
    "for reaction in model.reactions:\n",
    "    reaction_number += 1\n",
    "print(reaction_number)\n",
    "\n",
    "metabolite_number = 0\n",
    "for metabolite in model.metabolites:\n",
    "    metabolite_number += 1\n",
    "print(metabolite_number)"
   ]
  }
 ],
 "metadata": {
  "kernelspec": {
   "display_name": "Python 3",
   "language": "python",
   "name": "python3"
  },
  "language_info": {
   "codemirror_mode": {
    "name": "ipython",
    "version": 3
   },
   "file_extension": ".py",
   "mimetype": "text/x-python",
   "name": "python",
   "nbconvert_exporter": "python",
   "pygments_lexer": "ipython3",
   "version": "3.7.4"
  }
 },
 "nbformat": 4,
 "nbformat_minor": 2
}
