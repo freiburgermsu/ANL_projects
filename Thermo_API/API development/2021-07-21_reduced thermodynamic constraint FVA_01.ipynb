{
 "cells": [
  {
   "cell_type": "markdown",
   "metadata": {},
   "source": [
    "# Import the modules and model"
   ]
  },
  {
   "cell_type": "code",
   "execution_count": 1,
   "metadata": {},
   "outputs": [
    {
     "name": "stdout",
     "output_type": "stream",
     "text": [
      "cobrakbase 0.2.8\n"
     ]
    },
    {
     "name": "stderr",
     "output_type": "stream",
     "text": [
      "WARNING:cobrakbase.core.kbasefba.fbamodel_builder:unable to add sink for [cpd11416_c0]: not found\n",
      "WARNING:cobrakbase.core.kbasefba.fbamodel_builder:unable to add sink for [cpd15302_c0]: not found\n",
      "WARNING:cobrakbase.core.kbasefba.fbamodel_builder:unable to add sink for [cpd02701_c0]: not found\n"
     ]
    }
   ],
   "source": [
    "# import the general modules\n",
    "import cplex\n",
    "from optlang.symbolics import Zero\n",
    "#from cobra.flux_analysis import flux_variability_analysis as fva\n",
    "\n",
    "# import kbase\n",
    "import os\n",
    "os.environ[\"HOME\"] = 'C:\\\\Users\\\\Andrew Freiburger\\\\Dropbox\\\\My PC (DESKTOP-M302P50)\\\\Documents\\\\UVic Civil Engineering\\\\Internships\\\\Agronne\\\\cobrakbase'\n",
    "import cobrakbase\n",
    "token = 'KCYWCM5Q3ZFAGQKDG3ESMJXGHQPK7UMN'\n",
    "kbase = cobrakbase.KBaseAPI(token)\n",
    "\n",
    "# define the example individual model and associated API media package\n",
    "model = kbase.get_from_ws('e_coli_core', 94253)\n",
    "#model = kbase.get_from_ws('E_iAH991V2', 94253)\n",
    "model.solver = 'optlang-cplex'\n",
    "\n",
    "# apply the simple thermodynamic constraints \n",
    "modelseed_db_path = '..\\..\\..\\Biofilm growth code\\GSWL code\\ModelSEEDDatabase'\n",
    "\n",
    "# import modelseedpy\n",
    "from modelseedpy.fbapkg import simplethermopkg\n",
    "stp = simplethermopkg.SimpleThermoPkg(model)"
   ]
  },
  {
   "cell_type": "markdown",
   "metadata": {},
   "source": [
    "# Reduce the themrodynamic constraints"
   ]
  },
  {
   "cell_type": "code",
   "execution_count": 2,
   "metadata": {},
   "outputs": [],
   "source": [
    "parameters = {'reduced_constraints': True}\n",
    "stp.build_package(parameters)"
   ]
  },
  {
   "cell_type": "markdown",
   "metadata": {},
   "source": [
    "# Execute potentials FVA of the reduced model"
   ]
  },
  {
   "cell_type": "code",
   "execution_count": 3,
   "metadata": {
    "scrolled": false
   },
   "outputs": [
    {
     "name": "stdout",
     "output_type": "stream",
     "text": [
      "pyr_e\t\t0.0\t1000.0\n",
      "3pg_c\t\t0.0\t1000.0\n",
      "pyr_c\t\t0.0\t1000.0\n",
      "q8h2_c\t\t0.0\t1000.0\n",
      "pi_e\t\t0.0\t1000.0\n",
      "xu5p__D_c\t\t0.0\t1000.0\n",
      "2pg_c\t\t0.0\t1000.0\n",
      "glu__L_e\t\t0.0\t1000.0\n",
      "glc__D_e\t\t0.0\t1000.0\n",
      "glu__L_c\t\t0.0\t1000.0\n",
      "g3p_c\t\t0.0\t1000.0\n",
      "e4p_c\t\t0.0\t1000.0\n",
      "pi_c\t\t0.0\t1000.0\n",
      "6pgl_c\t\t0.0\t1000.0\n",
      "lac__D_e\t\t0.0\t1000.0\n",
      "acon_C_c\t\t0.0\t1000.0\n",
      "lac__D_c\t\t0.0\t1000.0\n",
      "oaa_c\t\t0.0\t1000.0\n",
      "coa_c\t\t0.0\t1000.0\n",
      "ru5p__D_c\t\t0.0\t1000.0\n",
      "atp_c\t\t0.0\t1000.0\n",
      "nadh_c\t\t0.0\t1000.0\n",
      "o2_e\t\t0.0\t1000.0\n",
      "gln__L_e\t\t0.0\t1000.0\n",
      "o2_c\t\t0.0\t1000.0\n",
      "gln__L_c\t\t0.0\t1000.0\n",
      "nadp_c\t\t0.0\t1000.0\n",
      "acald_e\t\t0.0\t1000.0\n",
      "h_c\t\t0.0\t1000.0\n",
      "acald_c\t\t0.0\t1000.0\n",
      "nh4_e\t\t0.0\t1000.0\n",
      "h_e\t\t0.0\t1000.0\n",
      "nadph_c\t\t0.0\t1000.0\n",
      "nh4_c\t\t0.0\t1000.0\n",
      "h2o_e\t\t0.0\t1000.0\n",
      "co2_e\t\t0.0\t1000.0\n",
      "h2o_c\t\t0.0\t1000.0\n",
      "co2_c\t\t0.0\t1000.0\n",
      "accoa_c\t\t0.0\t1000.0\n",
      "adp_c\t\t0.0\t1000.0\n",
      "dhap_c\t\t0.0\t1000.0\n",
      "cit_c\t\t0.0\t1000.0\n",
      "fum_c\t\t0.0\t1000.0\n",
      "f6p_c\t\t0.0\t1000.0\n",
      "fum_e\t\t0.0\t1000.0\n",
      "r5p_c\t\t0.0\t1000.0\n",
      "etoh_c\t\t0.0\t1000.0\n",
      "6pgc_c\t\t0.0\t1000.0\n",
      "akg_c\t\t0.0\t1000.0\n",
      "fdp_c\t\t0.0\t1000.0\n",
      "amp_c\t\t0.0\t1000.0\n",
      "for_e\t\t0.0\t1000.0\n",
      "nad_c\t\t0.0\t1000.0\n",
      "akg_e\t\t0.0\t1000.0\n",
      "for_c\t\t0.0\t1000.0\n",
      "13dpg_c\t\t0.0\t1000.0\n",
      "succoa_c\t\t0.0\t1000.0\n",
      "succ_e\t\t0.0\t1000.0\n",
      "glx_c\t\t0.0\t1000.0\n",
      "succ_c\t\t0.0\t1000.0\n",
      "icit_c\t\t0.0\t1000.0\n",
      "mal__L_c\t\t0.0\t1000.0\n",
      "mal__L_e\t\t0.0\t1000.0\n",
      "q8_c\t\t0.0\t1000.0\n",
      "actp_c\t\t0.0\t1000.0\n",
      "fru_e\t\t0.0\t1000.0\n",
      "g6p_c\t\t0.0\t1000.0\n",
      "ac_c\t\t0.0\t1000.0\n",
      "s7p_c\t\t0.0\t1000.0\n",
      "ac_e\t\t0.0\t1000.0\n",
      "etoh_e\t\t0.0\t1000.0\n",
      "pep_c\t\t0.0\t1000.0\n"
     ]
    }
   ],
   "source": [
    "# evaluate the variable range of each metabolite potential \n",
    "for cpdid in stp.variables['potential']:\n",
    "    # define the minimum progression\n",
    "    model.objective = model.problem.Objective(stp.variables['potential'][cpdid], direction='min')\n",
    "    solution = model.optimize()\n",
    "    min_value = solution.objective_value\n",
    "    \n",
    "    # define the maximum progression\n",
    "    model.objective = model.problem.Objective(stp.variables['potential'][cpdid], direction='max')\n",
    "    solution = model.optimize()\n",
    "    max_value = solution.objective_value\n",
    "    \n",
    "    # print the range of the values\n",
    "    print('{}\\t\\t{}\\t{}'.format(cpdid, str(min_value),str(max_value)))"
   ]
  },
  {
   "cell_type": "markdown",
   "metadata": {},
   "source": [
    "# Evaluate delta_rG FVA of the reduced model"
   ]
  },
  {
   "cell_type": "code",
   "execution_count": 4,
   "metadata": {},
   "outputs": [
    {
     "name": "stdout",
     "output_type": "stream",
     "text": [
      "PFK\t\t[-2000.0,3000.0]\n",
      "PFL\t\t[-2000.0,2000.0]\n",
      "PGI\t\t[-1000.0,1000.0]\n",
      "PGK\t\t[-2000.0,2000.0]\n",
      "PGL\t\t[-2000.0,2000.0]\n",
      "ACALD\t\t[-3000.0,3000.0]\n",
      "AKGt2r\t\t[-2000.0,2000.0]\n",
      "PGM\t\t[-1000.0,1000.0]\n",
      "PIt2r\t\t[-2000.0,2000.0]\n",
      "ALCD2x\t\t[-2000.0,3000.0]\n",
      "ACALDt\t\t[-1000.0,1000.0]\n",
      "ACKr\t\t[-2000.0,2000.0]\n",
      "PPC\t\t[-3000.0,3000.0]\n",
      "ACONTa\t\t[-1000.0,2000.0]\n",
      "ACONTb\t\t[-2000.0,1000.0]\n",
      "ATPM\t\t[-2000.0,3000.0]\n",
      "PPCK\t\t[-2000.0,3000.0]\n",
      "ACt2r\t\t[-2000.0,2000.0]\n",
      "PPS\t\t[-3000.0,5000.0]\n",
      "ADK1\t\t[-2000.0,2000.0]\n",
      "AKGDH\t\t[-3000.0,3000.0]\n",
      "ATPS4r\t\t[-6000.0,5000.0]\n",
      "PTAr\t\t[-2000.0,2000.0]\n",
      "PYK\t\t[-3000.0,2000.0]\n",
      "BIOMASS_Ecoli_core_w_GAM\t\t[-153438.0,203870.9]\n",
      "PYRt2\t\t[-2000.0,2000.0]\n",
      "CO2t\t\t[-1000.0,1000.0]\n",
      "RPE\t\t[-1000.0,1000.0]\n",
      "CS\t\t[-3000.0,3000.0]\n",
      "RPI\t\t[-1000.0,1000.0]\n",
      "SUCCt2_2\t\t[-3000.0,3000.0]\n",
      "CYTBD\t\t[-3500.0,4000.0]\n",
      "D_LACt2\t\t[-2000.0,2000.0]\n",
      "ENO\t\t[-1000.0,2000.0]\n",
      "SUCCt3\t\t[-2000.0,2000.0]\n",
      "ETOHt2r\t\t[-2000.0,2000.0]\n",
      "SUCDi\t\t[-2000.0,2000.0]\n",
      "SUCOAS\t\t[-3000.0,3000.0]\n",
      "TALA\t\t[-2000.0,2000.0]\n",
      "THD2\t\t[-4000.0,4000.0]\n",
      "TKT1\t\t[-2000.0,2000.0]\n",
      "TKT2\t\t[-2000.0,2000.0]\n",
      "TPI\t\t[-1000.0,1000.0]\n",
      "EX_ac_e\t\t[-1000.0,0.0]\n",
      "EX_acald_e\t\t[-1000.0,0.0]\n",
      "EX_akg_e\t\t[-1000.0,0.0]\n",
      "EX_co2_e\t\t[-1000.0,0.0]\n",
      "EX_etoh_e\t\t[-1000.0,0.0]\n",
      "EX_for_e\t\t[-1000.0,0.0]\n",
      "EX_fru_e\t\t[-1000.0,0.0]\n",
      "EX_fum_e\t\t[-1000.0,0.0]\n",
      "EX_glc__D_e\t\t[-1000.0,0.0]\n",
      "EX_gln__L_e\t\t[-1000.0,0.0]\n",
      "EX_glu__L_e\t\t[-1000.0,0.0]\n",
      "EX_h_e\t\t[-1000.0,0.0]\n",
      "EX_h2o_e\t\t[-1000.0,0.0]\n",
      "EX_lac__D_e\t\t[-1000.0,0.0]\n",
      "EX_mal__L_e\t\t[-1000.0,0.0]\n",
      "EX_nh4_e\t\t[-1000.0,0.0]\n",
      "EX_o2_e\t\t[-1000.0,0.0]\n",
      "EX_pi_e\t\t[-1000.0,0.0]\n",
      "EX_pyr_e\t\t[-1000.0,0.0]\n",
      "EX_succ_e\t\t[-1000.0,0.0]\n",
      "FBA\t\t[-1000.0,2000.0]\n",
      "FBP\t\t[-2000.0,2000.0]\n",
      "FORt2\t\t[-2000.0,2000.0]\n",
      "FORt\t\t[-1000.0,1000.0]\n",
      "FRD7\t\t[-2000.0,2000.0]\n",
      "FRUpts2\t\t[-2000.0,2000.0]\n",
      "FUM\t\t[-2000.0,1000.0]\n",
      "FUMt2_2\t\t[-3000.0,3000.0]\n",
      "G6PDH2r\t\t[-2000.0,3000.0]\n",
      "GAPD\t\t[-3000.0,3000.0]\n",
      "GLCpts\t\t[-2000.0,2000.0]\n",
      "GLNS\t\t[-3000.0,4000.0]\n",
      "GLNabc\t\t[-3000.0,4000.0]\n",
      "GLUDy\t\t[-3000.0,4000.0]\n",
      "GLUN\t\t[-2000.0,2000.0]\n",
      "GLUSy\t\t[-4000.0,3000.0]\n",
      "GLUt2r\t\t[-2000.0,2000.0]\n",
      "GND\t\t[-2000.0,3000.0]\n",
      "H2Ot\t\t[-1000.0,1000.0]\n",
      "ICDHyr\t\t[-2000.0,3000.0]\n",
      "ICL\t\t[-1000.0,2000.0]\n",
      "LDH_D\t\t[-2000.0,3000.0]\n",
      "MALS\t\t[-3000.0,3000.0]\n",
      "MALt2_2\t\t[-3000.0,3000.0]\n",
      "MDH\t\t[-2000.0,3000.0]\n",
      "ME1\t\t[-2000.0,3000.0]\n",
      "ME2\t\t[-2000.0,3000.0]\n",
      "NADH16\t\t[-6000.0,5000.0]\n",
      "NADTRHD\t\t[-2000.0,2000.0]\n",
      "NH4t\t\t[-1000.0,1000.0]\n",
      "O2t\t\t[-1000.0,1000.0]\n",
      "PDH\t\t[-3000.0,3000.0]\n"
     ]
    }
   ],
   "source": [
    "# evaluate the variable range of each drG \n",
    "for reaction in model.reactions:\n",
    "    objective_coefficient = {}\n",
    "    for metabolite in reaction.metabolites:\n",
    "        objective_coefficient[stp.variables['potential'][metabolite.id]] = reaction.metabolites[metabolite]\n",
    "    #print(objective_coefficient)\n",
    "       \n",
    "    # define the maximum progression\n",
    "    model.objective = model.problem.Objective(Zero, direction='max')\n",
    "    model.objective.set_linear_coefficients(objective_coefficient)\n",
    "    solution = model.optimize()\n",
    "    max_value = solution.objective_value\n",
    "    \n",
    "    # define the minimum progression\n",
    "    model.objective = model.problem.Objective(Zero,direction='min')\n",
    "    model.objective.set_linear_coefficients(objective_coefficient)\n",
    "    solution = model.optimize()\n",
    "    min_value = solution.objective_value\n",
    "    \n",
    "    # print the range of the values\n",
    "    print('{}\\t\\t[{},{}]'.format(reaction.id, str(min_value),str(max_value)))"
   ]
  },
  {
   "cell_type": "markdown",
   "metadata": {},
   "source": [
    "### Pseudo-code for constructing an FVA function"
   ]
  },
  {
   "cell_type": "markdown",
   "metadata": {},
   "source": [
    "iterate each reaction\n",
    "  maximize reaction and get result\n",
    "  minimize reaction and get result\n",
    "\n",
    "use \"slim\" optimize to run it faster"
   ]
  },
  {
   "cell_type": "markdown",
   "metadata": {},
   "source": [
    "# Brainstorming"
   ]
  },
  {
   "cell_type": "code",
   "execution_count": 5,
   "metadata": {
    "scrolled": true
   },
   "outputs": [
    {
     "name": "stdout",
     "output_type": "stream",
     "text": [
      "-1.0 * 0 <= atp_c_potential <= 1000 + -1.0 * 0 <= f6p_c_potential <= 1000 + 1.0 * 0 <= adp_c_potential <= 1000 + 1.0 * 0 <= fdp_c_potential <= 1000 + 1.0 * 0 <= h_c_potential <= 1000\n"
     ]
    },
    {
     "ename": "TypeError",
     "evalue": "can't multiply sequence by non-int of type 'float'",
     "output_type": "error",
     "traceback": [
      "\u001b[1;31m---------------------------------------------------------------------------\u001b[0m",
      "\u001b[1;31mTypeError\u001b[0m                                 Traceback (most recent call last)",
      "\u001b[1;32m<ipython-input-5-d4b4cec2dd75>\u001b[0m in \u001b[0;36m<module>\u001b[1;34m\u001b[0m\n\u001b[0;32m      8\u001b[0m     \u001b[0mobjective_string\u001b[0m \u001b[1;33m=\u001b[0m \u001b[1;34m' + '\u001b[0m\u001b[1;33m.\u001b[0m\u001b[0mjoin\u001b[0m\u001b[1;33m(\u001b[0m\u001b[1;33m(\u001b[0m\u001b[1;34m'{} * {}'\u001b[0m\u001b[1;33m)\u001b[0m\u001b[1;33m.\u001b[0m\u001b[0mformat\u001b[0m\u001b[1;33m(\u001b[0m\u001b[0mlist\u001b[0m\u001b[1;33m(\u001b[0m\u001b[0mmetabolite_data\u001b[0m\u001b[1;33m.\u001b[0m\u001b[0mvalues\u001b[0m\u001b[1;33m(\u001b[0m\u001b[1;33m)\u001b[0m\u001b[1;33m)\u001b[0m\u001b[1;33m[\u001b[0m\u001b[1;36m0\u001b[0m\u001b[1;33m]\u001b[0m\u001b[1;33m,\u001b[0m \u001b[0mlist\u001b[0m\u001b[1;33m(\u001b[0m\u001b[0mmetabolite_data\u001b[0m\u001b[1;33m.\u001b[0m\u001b[0mkeys\u001b[0m\u001b[1;33m(\u001b[0m\u001b[1;33m)\u001b[0m\u001b[1;33m)\u001b[0m\u001b[1;33m[\u001b[0m\u001b[1;36m0\u001b[0m\u001b[1;33m]\u001b[0m\u001b[1;33m)\u001b[0m \u001b[1;32mfor\u001b[0m \u001b[0mmetabolite_data\u001b[0m \u001b[1;32min\u001b[0m \u001b[0mmetabolite_stoich\u001b[0m\u001b[1;33m)\u001b[0m\u001b[1;33m\u001b[0m\u001b[1;33m\u001b[0m\u001b[0m\n\u001b[0;32m      9\u001b[0m     \u001b[0mprint\u001b[0m\u001b[1;33m(\u001b[0m\u001b[0mobjective_string\u001b[0m\u001b[1;33m)\u001b[0m\u001b[1;33m\u001b[0m\u001b[1;33m\u001b[0m\u001b[0m\n\u001b[1;32m---> 10\u001b[1;33m     \u001b[0mmodel\u001b[0m\u001b[1;33m.\u001b[0m\u001b[0mobjective\u001b[0m \u001b[1;33m=\u001b[0m \u001b[0mmodel\u001b[0m\u001b[1;33m.\u001b[0m\u001b[0mproblem\u001b[0m\u001b[1;33m.\u001b[0m\u001b[0mObjective\u001b[0m\u001b[1;33m(\u001b[0m\u001b[0mobjective_string\u001b[0m\u001b[1;33m)\u001b[0m\u001b[1;33m\u001b[0m\u001b[1;33m\u001b[0m\u001b[0m\n\u001b[0m",
      "\u001b[1;32mC:\\Users\\Andrew Freiburger\\AppData\\Roaming\\Python\\Python37\\site-packages\\optlang\\cplex_interface.py\u001b[0m in \u001b[0;36m__init__\u001b[1;34m(self, expression, sloppy, **kwargs)\u001b[0m\n\u001b[0;32m    341\u001b[0m \u001b[1;32mclass\u001b[0m \u001b[0mObjective\u001b[0m\u001b[1;33m(\u001b[0m\u001b[0minterface\u001b[0m\u001b[1;33m.\u001b[0m\u001b[0mObjective\u001b[0m\u001b[1;33m)\u001b[0m\u001b[1;33m:\u001b[0m\u001b[1;33m\u001b[0m\u001b[1;33m\u001b[0m\u001b[0m\n\u001b[0;32m    342\u001b[0m     \u001b[1;32mdef\u001b[0m \u001b[0m__init__\u001b[0m\u001b[1;33m(\u001b[0m\u001b[0mself\u001b[0m\u001b[1;33m,\u001b[0m \u001b[0mexpression\u001b[0m\u001b[1;33m,\u001b[0m \u001b[0msloppy\u001b[0m\u001b[1;33m=\u001b[0m\u001b[1;32mFalse\u001b[0m\u001b[1;33m,\u001b[0m \u001b[1;33m**\u001b[0m\u001b[0mkwargs\u001b[0m\u001b[1;33m)\u001b[0m\u001b[1;33m:\u001b[0m\u001b[1;33m\u001b[0m\u001b[1;33m\u001b[0m\u001b[0m\n\u001b[1;32m--> 343\u001b[1;33m         \u001b[0msuper\u001b[0m\u001b[1;33m(\u001b[0m\u001b[0mObjective\u001b[0m\u001b[1;33m,\u001b[0m \u001b[0mself\u001b[0m\u001b[1;33m)\u001b[0m\u001b[1;33m.\u001b[0m\u001b[0m__init__\u001b[0m\u001b[1;33m(\u001b[0m\u001b[0mexpression\u001b[0m\u001b[1;33m,\u001b[0m \u001b[0msloppy\u001b[0m\u001b[1;33m=\u001b[0m\u001b[0msloppy\u001b[0m\u001b[1;33m,\u001b[0m \u001b[1;33m**\u001b[0m\u001b[0mkwargs\u001b[0m\u001b[1;33m)\u001b[0m\u001b[1;33m\u001b[0m\u001b[1;33m\u001b[0m\u001b[0m\n\u001b[0m\u001b[0;32m    344\u001b[0m         \u001b[0mself\u001b[0m\u001b[1;33m.\u001b[0m\u001b[0m_expression_expired\u001b[0m \u001b[1;33m=\u001b[0m \u001b[1;32mFalse\u001b[0m\u001b[1;33m\u001b[0m\u001b[1;33m\u001b[0m\u001b[0m\n\u001b[0;32m    345\u001b[0m         \u001b[1;32mif\u001b[0m \u001b[1;32mnot\u001b[0m \u001b[1;33m(\u001b[0m\u001b[0msloppy\u001b[0m \u001b[1;32mor\u001b[0m \u001b[0mself\u001b[0m\u001b[1;33m.\u001b[0m\u001b[0mis_Linear\u001b[0m \u001b[1;32mor\u001b[0m \u001b[0mself\u001b[0m\u001b[1;33m.\u001b[0m\u001b[0mis_Quadratic\u001b[0m\u001b[1;33m)\u001b[0m\u001b[1;33m:\u001b[0m\u001b[1;33m\u001b[0m\u001b[1;33m\u001b[0m\u001b[0m\n",
      "\u001b[1;32mC:\\Users\\Andrew Freiburger\\AppData\\Roaming\\Python\\Python37\\site-packages\\optlang\\interface.py\u001b[0m in \u001b[0;36m__init__\u001b[1;34m(self, expression, value, direction, *args, **kwargs)\u001b[0m\n\u001b[0;32m    883\u001b[0m         \u001b[0mself\u001b[0m\u001b[1;33m.\u001b[0m\u001b[0m_value\u001b[0m \u001b[1;33m=\u001b[0m \u001b[0mvalue\u001b[0m\u001b[1;33m\u001b[0m\u001b[1;33m\u001b[0m\u001b[0m\n\u001b[0;32m    884\u001b[0m         \u001b[0mself\u001b[0m\u001b[1;33m.\u001b[0m\u001b[0m_direction\u001b[0m \u001b[1;33m=\u001b[0m \u001b[0mdirection\u001b[0m\u001b[1;33m\u001b[0m\u001b[1;33m\u001b[0m\u001b[0m\n\u001b[1;32m--> 885\u001b[1;33m         \u001b[0msuper\u001b[0m\u001b[1;33m(\u001b[0m\u001b[0mObjective\u001b[0m\u001b[1;33m,\u001b[0m \u001b[0mself\u001b[0m\u001b[1;33m)\u001b[0m\u001b[1;33m.\u001b[0m\u001b[0m__init__\u001b[0m\u001b[1;33m(\u001b[0m\u001b[0mexpression\u001b[0m\u001b[1;33m,\u001b[0m \u001b[1;33m*\u001b[0m\u001b[0margs\u001b[0m\u001b[1;33m,\u001b[0m \u001b[1;33m**\u001b[0m\u001b[0mkwargs\u001b[0m\u001b[1;33m)\u001b[0m\u001b[1;33m\u001b[0m\u001b[1;33m\u001b[0m\u001b[0m\n\u001b[0m\u001b[0;32m    886\u001b[0m \u001b[1;33m\u001b[0m\u001b[0m\n\u001b[0;32m    887\u001b[0m     \u001b[1;33m@\u001b[0m\u001b[0mproperty\u001b[0m\u001b[1;33m\u001b[0m\u001b[1;33m\u001b[0m\u001b[0m\n",
      "\u001b[1;32mC:\\Users\\Andrew Freiburger\\AppData\\Roaming\\Python\\Python37\\site-packages\\optlang\\interface.py\u001b[0m in \u001b[0;36m__init__\u001b[1;34m(self, expression, name, problem, sloppy, *args, **kwargs)\u001b[0m\n\u001b[0;32m    427\u001b[0m             \u001b[0mself\u001b[0m\u001b[1;33m.\u001b[0m\u001b[0m_expression\u001b[0m \u001b[1;33m=\u001b[0m \u001b[0mexpression\u001b[0m\u001b[1;33m\u001b[0m\u001b[1;33m\u001b[0m\u001b[0m\n\u001b[0;32m    428\u001b[0m         \u001b[1;32melse\u001b[0m\u001b[1;33m:\u001b[0m\u001b[1;33m\u001b[0m\u001b[1;33m\u001b[0m\u001b[0m\n\u001b[1;32m--> 429\u001b[1;33m             \u001b[0mself\u001b[0m\u001b[1;33m.\u001b[0m\u001b[0m_expression\u001b[0m \u001b[1;33m=\u001b[0m \u001b[0mself\u001b[0m\u001b[1;33m.\u001b[0m\u001b[0m_canonicalize\u001b[0m\u001b[1;33m(\u001b[0m\u001b[0mexpression\u001b[0m\u001b[1;33m)\u001b[0m\u001b[1;33m\u001b[0m\u001b[1;33m\u001b[0m\u001b[0m\n\u001b[0m\u001b[0;32m    430\u001b[0m         \u001b[1;32mif\u001b[0m \u001b[0mname\u001b[0m \u001b[1;32mis\u001b[0m \u001b[1;32mNone\u001b[0m\u001b[1;33m:\u001b[0m\u001b[1;33m\u001b[0m\u001b[1;33m\u001b[0m\u001b[0m\n\u001b[0;32m    431\u001b[0m             \u001b[0mself\u001b[0m\u001b[1;33m.\u001b[0m\u001b[0m_name\u001b[0m \u001b[1;33m=\u001b[0m \u001b[0mstr\u001b[0m\u001b[1;33m(\u001b[0m\u001b[0muuid\u001b[0m\u001b[1;33m.\u001b[0m\u001b[0muuid1\u001b[0m\u001b[1;33m(\u001b[0m\u001b[1;33m)\u001b[0m\u001b[1;33m)\u001b[0m\u001b[1;33m\u001b[0m\u001b[1;33m\u001b[0m\u001b[0m\n",
      "\u001b[1;32mC:\\Users\\Andrew Freiburger\\AppData\\Roaming\\Python\\Python37\\site-packages\\optlang\\interface.py\u001b[0m in \u001b[0;36m_canonicalize\u001b[1;34m(self, expression)\u001b[0m\n\u001b[0;32m    910\u001b[0m             \u001b[0mexpression\u001b[0m \u001b[1;33m*=\u001b[0m \u001b[1;36m1.\u001b[0m\u001b[1;33m\u001b[0m\u001b[1;33m\u001b[0m\u001b[0m\n\u001b[0;32m    911\u001b[0m         \u001b[1;32melse\u001b[0m\u001b[1;33m:\u001b[0m  \u001b[1;31m# pragma: no cover   # symengine\u001b[0m\u001b[1;33m\u001b[0m\u001b[1;33m\u001b[0m\u001b[0m\n\u001b[1;32m--> 912\u001b[1;33m             \u001b[0mexpression\u001b[0m \u001b[1;33m=\u001b[0m \u001b[1;33m(\u001b[0m\u001b[1;36m1.\u001b[0m \u001b[1;33m*\u001b[0m \u001b[0mexpression\u001b[0m\u001b[1;33m)\u001b[0m\u001b[1;33m.\u001b[0m\u001b[0mexpand\u001b[0m\u001b[1;33m(\u001b[0m\u001b[1;33m)\u001b[0m\u001b[1;33m\u001b[0m\u001b[1;33m\u001b[0m\u001b[0m\n\u001b[0m\u001b[0;32m    913\u001b[0m         \u001b[1;32mreturn\u001b[0m \u001b[0mexpression\u001b[0m\u001b[1;33m\u001b[0m\u001b[1;33m\u001b[0m\u001b[0m\n\u001b[0;32m    914\u001b[0m \u001b[1;33m\u001b[0m\u001b[0m\n",
      "\u001b[1;31mTypeError\u001b[0m: can't multiply sequence by non-int of type 'float'"
     ]
    }
   ],
   "source": [
    "for reaction in model.reactions:\n",
    "    metabolite_stoich = []\n",
    "    for metabolite in reaction.metabolites:\n",
    "        metabolite_stoich.append({stp.variables['potential'][metabolite.id]:reaction.metabolites[metabolite]})\n",
    "    \n",
    "    '''for metabolite_data in metabolite_stoich:\n",
    "        print(list(metabolite_data.keys()), list(metabolite_data.values()))'''\n",
    "    objective_string = ' + '.join(('{} * {}').format(list(metabolite_data.values())[0], list(metabolite_data.keys())[0]) for metabolite_data in metabolite_stoich)\n",
    "    print(objective_string)\n",
    "    model.objective = model.problem.Objective(objective_string)"
   ]
  }
 ],
 "metadata": {
  "kernelspec": {
   "display_name": "Python 3",
   "language": "python",
   "name": "python3"
  },
  "language_info": {
   "codemirror_mode": {
    "name": "ipython",
    "version": 3
   },
   "file_extension": ".py",
   "mimetype": "text/x-python",
   "name": "python",
   "nbconvert_exporter": "python",
   "pygments_lexer": "ipython3",
   "version": "3.7.4"
  }
 },
 "nbformat": 4,
 "nbformat_minor": 2
}
